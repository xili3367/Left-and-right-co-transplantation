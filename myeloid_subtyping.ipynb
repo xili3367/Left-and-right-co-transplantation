{
 "cells": [
  {
   "cell_type": "code",
   "execution_count": null,
   "metadata": {},
   "outputs": [],
   "source": [
    "from matplotlib import rcParams\n",
    "import matplotlib.pyplot as plt\n",
    "import scvelo as scv\n",
    "import loompy\n",
    "import pandas as pd\n",
    "import numpy as np\n",
    "import os\n",
    "import scanpy as sc\n",
    "import scipy.stats as stats\n",
    "from io import StringIO\n",
    "from sklearn import linear_model\n",
    "import seaborn as sns\n",
    " \n",
    "%matplotlib inline"
   ]
  },
  {
   "cell_type": "code",
   "execution_count": null,
   "metadata": {},
   "outputs": [],
   "source": [
    "scv.settings.verbosity = 3  # show errors(0), warnings(1), info(2), hints(3)\n",
    "scv.settings.presenter_view = True  # set max width size for presenter view\n",
    "scv.settings.set_figure_params('scvelo')\n",
    "# for beautified visualization\n",
    "\n",
    "plt.rcParams['pdf.fonttype'] = 42\n",
    "plt.rcParams['ps.fonttype'] = 42"
   ]
  },
  {
   "cell_type": "markdown",
   "metadata": {},
   "source": [
    "## input sample path\n",
    "\n",
    "First lets find the directory that we are working in\n",
    "\n",
    "**Note:  SigsDir must be changed depending on the user to allow for proper use of this script**"
   ]
  },
  {
   "cell_type": "code",
   "execution_count": null,
   "metadata": {},
   "outputs": [],
   "source": [
    "os.getcwd()"
   ]
  },
  {
   "cell_type": "code",
   "execution_count": null,
   "metadata": {},
   "outputs": [],
   "source": [
    "#set directory to where signature gene lists locates\n",
    "SigsDir=\"/mnt/533ee9c3-18c0-4c72-a09e-d9ce5a10ef9e/sig\""
   ]
  },
  {
   "cell_type": "markdown",
   "metadata": {},
   "source": [
    "## Unique Gene Names\n",
    "\n",
    "First we want to select the genes that we wish to look at and format them into a data frame that we can use later on"
   ]
  },
  {
   "cell_type": "code",
   "execution_count": null,
   "metadata": {},
   "outputs": [],
   "source": [
    "#set the directory for outputs\n",
    "project_ID=\"PD1_CC_mye_tumor_blood\"\n",
    "scv.settings.figdir=f'{project_ID}_figures'"
   ]
  },
  {
   "cell_type": "code",
   "execution_count": null,
   "metadata": {},
   "outputs": [],
   "source": [
    "#load raw count data\n",
    "adata = sc.read(f'PD1_CC_mye_anno_raw.h5ad')\n",
    "adata.raw=adata"
   ]
  },
  {
   "cell_type": "code",
   "execution_count": null,
   "metadata": {},
   "outputs": [],
   "source": [
    "raw=pd.DataFrame(adata.raw.X.toarray(), index=adata.raw.obs_names, columns=adata.raw.var_names)"
   ]
  },
  {
   "cell_type": "code",
   "execution_count": null,
   "metadata": {},
   "outputs": [],
   "source": [
    "adata_raw= sc.AnnData(raw)\n",
    "for i in np.unique(adata.obs.columns):\n",
    "    adata_raw.obs[i]=adata.obs[i]\n",
    "scv.pp.filter_and_normalize(adata_raw, min_cells=0.005*(adata.n_obs), flavor=\"seurat\")"
   ]
  },
  {
   "cell_type": "code",
   "execution_count": null,
   "metadata": {},
   "outputs": [],
   "source": [
    "adata.raw=adata_raw"
   ]
  },
  {
   "cell_type": "code",
   "execution_count": null,
   "metadata": {},
   "outputs": [],
   "source": [
    "Sample_idx=pd.Series(\"Unknown\", index=adata.obs_names)\n",
    "m=0\n",
    "for i in np.unique(adata.obs.Patient):   \n",
    "    Sample_idx[adata.obs.Patient==i]=m\n",
    "    m=m+1\n",
    "adata.obs[\"Sample_idx\"]=Sample_idx.values\n",
    "adata.obs[\"Sample_idx\"]=adata.obs[\"Sample_idx\"].astype(float)"
   ]
  },
  {
   "cell_type": "code",
   "execution_count": null,
   "metadata": {},
   "outputs": [],
   "source": [
    "\n",
    "#we need to make a directory to store the files in\n",
    "try:\n",
    "    directoryName=project_ID+\"_figures\"\n",
    "    os.mkdir(directoryName)\n",
    "except:\n",
    "    pass\n",
    "\n",
    "#we need to make a directory to store the files in\n",
    "#we need to make a directory to store the files in\n",
    "try:\n",
    "    directoryName=project_ID+\"_DEG\"\n",
    "    os.mkdir(directoryName)\n",
    "except:\n",
    "    pass\n"
   ]
  },
  {
   "cell_type": "markdown",
   "metadata": {},
   "source": [
    "## Preprocess the Data\n",
    "\n",
    "now we will take the files from the previous section where we determined spliced/unspliced RNA counts and use them to create RNA velocity trajectory as well as investigate biological alternation in each cell"
   ]
  },
  {
   "cell_type": "code",
   "execution_count": null,
   "metadata": {},
   "outputs": [],
   "source": [
    "#calculate the percentage of mitochondrial genes and ribosomal genes\n",
    "adata.var['MT'] = adata.var_names.str.startswith('MT-')\n",
    "adata.var['RP'] = adata.var_names.str.startswith('RP')\n",
    "sc.pp.calculate_qc_metrics(adata, qc_vars=['MT'], percent_top=None, log1p=False, inplace=True)\n",
    "sc.pp.calculate_qc_metrics(adata, qc_vars=['RP'], percent_top=None, log1p=False, inplace=True)\n",
    "#sc.pl.violin(adata, ['n_vars'], groupby='Sample_ID', stripplot=False) "
   ]
  },
  {
   "cell_type": "code",
   "execution_count": null,
   "metadata": {},
   "outputs": [],
   "source": [
    "#plot scatter plots of dataset QC\n",
    "sc.pl.scatter(adata, x='n_genes_by_counts',y='pct_counts_MT',color=\"Cluster\")\n",
    "sc.pl.scatter(adata, x='n_genes_by_counts', y='pct_counts_RP')\n",
    "sc.pl.scatter(adata, x='total_counts', y='n_genes_by_counts')"
   ]
  },
  {
   "cell_type": "markdown",
   "metadata": {},
   "source": [
    "when cell membrane is broken, cytoplasmic RNA will be easy to leek out, but mitochondia are still too big to pass the broken membrane, so that high percentage usually suggestes bad cells. But on the contrary, there is paper saying stemness like cell containing high percentage mitochondrial genes to survie stress, so we have to go back to this parameters according to what we will have found later."
   ]
  },
  {
   "cell_type": "code",
   "execution_count": null,
   "metadata": {},
   "outputs": [],
   "source": [
    "sc.pp.filter_genes(adata, min_cells=1,)\n",
    "sc.pp.normalize_total(adata, target_sum=1e4)\n",
    "sc.pp.log1p(adata)\n",
    "sc.pp.highly_variable_genes(adata, min_mean=0.0125, max_mean=3, min_disp=0.5,)\n",
    "adata = adata[:, adata.var.highly_variable]\n",
    "scv.tl.score_genes_cell_cycle(adata) # calculate cell cycle score with scv internal function and its gene list of s phase and g2m phase, then we will have two observations---\"S_score\" and \"G2M_score\" added in adata \n",
    "#sc.pp.regress_out(adata, keys=[\"total_counts\",\"n_genes_by_counts\",\"Sample_idx\"] , n_jobs=None, copy=False) # we remove cell cycle effects\n",
    "#scv.pp.moments(adata,n_pcs=10, n_neighbors=250, mode=\"distances\") # we calculate a moment matrix for further RNA velocity analysis"
   ]
  },
  {
   "cell_type": "code",
   "execution_count": null,
   "metadata": {},
   "outputs": [],
   "source": [
    "sc.pp.scale(adata, max_value=10)\n",
    "sc.tl.pca(adata, svd_solver='arpack')\n",
    "sc.pp.neighbors(adata, n_neighbors=10, n_pcs=40)"
   ]
  },
  {
   "cell_type": "code",
   "execution_count": null,
   "metadata": {},
   "outputs": [],
   "source": [
    "#calculate umap\n",
    "scv.tl.umap(adata, n_components=2, min_dist=0.7, spread=1, maxiter=None, alpha=1.0,\n",
    "            gamma=1, negative_sample_rate=5, init_pos=\"spectral\", random_state=0, a=None,\n",
    "            b=None, copy=False, method=\"umap\", neighbors_key=None)"
   ]
  },
  {
   "cell_type": "code",
   "execution_count": null,
   "metadata": {},
   "outputs": [],
   "source": [
    "#calculate louvain clusters based on the umap we generated previously\n",
    "sc.tl.leiden(adata, resolution=0.5,\n",
    "                 key_added='leiden', use_weights=True)\n",
    "adata.obs[\"clusters\"]=adata.obs[\"leiden\"]"
   ]
  },
  {
   "cell_type": "code",
   "execution_count": null,
   "metadata": {},
   "outputs": [],
   "source": [
    "#check proportions of spliced and unspliced RNA in each cluster\n",
    "scv.pl.proportions(adata)"
   ]
  },
  {
   "cell_type": "code",
   "execution_count": null,
   "metadata": {},
   "outputs": [],
   "source": [
    "#plot umap grouped by treatment\n",
    "plot_pattern=\"anno_sub\"\n",
    "scv.pl.scatter(adata, save=f\"{plot_pattern}_umap.pdf\",\n",
    "               basis=\"umap\",\n",
    "           color=plot_pattern,legend_loc=\"right\",\n",
    "            size=5, alpha=0.8,\n",
    "            palette=[ \"DeepSkyBlue\",\"Pink\",\"darkviolet\",\n",
    "                    \"SpringGreen\",\"forestgreen\",\"maroon\"\n",
    "            ,\"PapayaWhip\", \"gold\",\"orchid\",\"crimson\"\n",
    "            ,\"firebrick\",\"olivedrab\",\"lightcoral\",\"greenyellow\"\n",
    "            ,\"tan\",\"slategrey\",\"coral\",\"lightseagreen\"\n",
    "            ,\"lightsteelblue\",\"lightskyblue\",\"dimgrey\",\n",
    "            \"indigo\",\"darkturquoise\"], )"
   ]
  },
  {
   "cell_type": "code",
   "execution_count": null,
   "metadata": {},
   "outputs": [],
   "source": [
    "#re-load the processed data\n",
    "adata = sc.read(f'{project_ID}_figures/{project_ID}_anno_sub.h5ad')"
   ]
  },
  {
   "cell_type": "code",
   "execution_count": null,
   "metadata": {},
   "outputs": [],
   "source": [
    "raw=pd.DataFrame(adata.raw.X.copy(), index=adata.raw.obs_names, columns=adata.raw.var_names)"
   ]
  },
  {
   "cell_type": "code",
   "execution_count": null,
   "metadata": {},
   "outputs": [],
   "source": [
    "#for tumor myeloid subtyping\n",
    "anno=pd.Series(\"malign\",index=adata.obs_names)\n",
    "anno[adata.obs.clusters!=\"X\"]=\"C5AR1_lo\"\n",
    "\n",
    "anno[(((raw[\"C5AR1\"]<np.quantile(raw[\"C5AR1\"],0.25))|(raw[\"C5AR1\"]==np.quantile(raw[\"C5AR1\"],0.25)))\n",
    "      |((raw[\"CD163\"]<np.quantile(raw[\"CD163\"],0.25))| (raw[\"CD163\"]==np.quantile(raw[\"CD163\"],0.25)))|\n",
    "     ( (raw[\"MRC1\"]<np.quantile(raw[\"MRC1\"],0.25))|(raw[\"MRC1\"]==np.quantile(raw[\"MRC1\"],0.25))))&(raw[\"CD86\"]>0)]=\"CD86_hi\"\n",
    "anno[(raw[\"C5AR1\"]>np.quantile(raw[\"C5AR1\"],0.25))]=\"C5AR1_hi\"\n",
    "adata.obs[\"anno_sub\"]=anno.values"
   ]
  },
  {
   "cell_type": "code",
   "execution_count": null,
   "metadata": {},
   "outputs": [],
   "source": [
    "#for blood myeloid subtyping\n",
    "anno=pd.Series(\"malign\",index=adata.obs_names)\n",
    "anno[adata.obs.clusters!=\"X\"]=\"C5AR1_lo\"\n",
    "\n",
    "anno[(((raw[\"C5AR1\"]<np.quantile(raw[\"C5AR1\"],0.25))|(raw[\"C5AR1\"]==np.quantile(raw[\"C5AR1\"],0.25)))\n",
    "      |((raw[\"CD163\"]<np.quantile(raw[\"CD163\"],0.25))| (raw[\"CD163\"]==np.quantile(raw[\"CD163\"],0.25)))|\n",
    "     ( (raw[\"MRC1\"]<np.quantile(raw[\"MRC1\"],0.25))|(raw[\"MRC1\"]==np.quantile(raw[\"MRC1\"],0.25))))&(raw[\"CD86\"]>0)]=\"CD86_hi\"\n",
    "anno[(raw[\"C5AR1\"]>np.quantile(raw[\"C5AR1\"],0.25))]=\"C5AR1_hi\"\n",
    "# in blood we spot 10% of the myeloid cell expressed CD163 but C5AR1 low myeloid cells but included in CD86 high group, given CD163 was reported as a M2 marker, they were excluded from CD86 high group.\n",
    "anno[(raw[\"CD163\"]>np.quantile(raw[\"CD163\"],0.25))&(raw[\"CD86\"]==0)]=\"C5AR1_lo\"\n",
    "\n",
    "adata.obs[\"anno_sub\"]=anno.values"
   ]
  },
  {
   "cell_type": "code",
   "execution_count": null,
   "metadata": {},
   "outputs": [],
   "source": [
    "#sc.tl.dendrogram(adata, groupby=\"treatment\")\n",
    "markers ={\n",
    "    #\"Epi.cells\":[\"EPCAM\",\"KRT8\",\"KRT81\",\"RPS19\"],\n",
    "    \"Myeloid.cells\":[\"CD14\",\"ITGAM\"],\n",
    "    \"Macrophages\":[\"CD68\",\"C1QA\",\"C1QB\",\"C1QC\",\"CSF1R\"],\n",
    "    \"M1_TAM\":[\"CD86\",\"CXCL10\",\"CXCL9\",\"CX3CR1\"],\n",
    "    \"M2_TAM\":[\"MRC1\",\"CD163\",\"CCL2\",\"C5AR1\"],\n",
    "\n",
    "}\n",
    "sc.pl.dotplot(adata, markers,standard_scale=\"var\",cmap=\"RdYlBu_r\",figsize=(5,1),\n",
    "                     mean_only_expressed=False, expression_cutoff=0,\n",
    "                     groupby='anno_sub', dendrogram=False,save=f\"{project_ID}_clusters.pdf\")"
   ]
  },
  {
   "cell_type": "code",
   "execution_count": null,
   "metadata": {},
   "outputs": [],
   "source": [
    "#plot umap grouped by treatment\n",
    "plot_pattern=\"anno_sub\"\n",
    "scv.pl.scatter(adata, save=f\"{plot_pattern}_umap.pdf\",\n",
    "               basis=\"umap\",\n",
    "           color=plot_pattern,legend_loc=\"right\",\n",
    "            size=20, alpha=0.8,\n",
    "            palette=[ \"DeepSkyBlue\",\"Pink\",\"darkviolet\",\n",
    "                    \"SpringGreen\",\"forestgreen\",\"maroon\"\n",
    "            ,\"PapayaWhip\", \"gold\",\"orchid\",\"crimson\"\n",
    "            ,\"firebrick\",\"olivedrab\",\"lightcoral\",\"greenyellow\"\n",
    "            ,\"tan\",\"slategrey\",\"coral\",\"lightseagreen\"\n",
    "            ,\"lightsteelblue\",\"lightskyblue\",\"dimgrey\",\n",
    "            \"indigo\",\"darkturquoise\"], )"
   ]
  },
  {
   "cell_type": "markdown",
   "metadata": {},
   "source": [
    "## Cell fraction bar charts"
   ]
  },
  {
   "cell_type": "code",
   "execution_count": null,
   "metadata": {},
   "outputs": [],
   "source": [
    "adata.obs[\"Sample\"]=adata.obs.Patient.astype(str)+\"_\"+adata.obs.Group.astype(str)"
   ]
  },
  {
   "cell_type": "code",
   "execution_count": null,
   "metadata": {},
   "outputs": [],
   "source": [
    "adata_s=adata[(adata.obs.Group.str.startswith(\"Pre\"))\n",
    "              #&((adata.obs.Efficacy==\"PR\"))\n",
    "              #|(adata.obs.Efficacy==\"PD\"))\n",
    "             #&(adata.obs.Treatment!=\"Chemo\")\n",
    "              &(adata.obs.Origin==\"b\")]"
   ]
  },
  {
   "cell_type": "code",
   "execution_count": null,
   "metadata": {},
   "outputs": [],
   "source": [
    "adata_s=adata[(adata.obs.Group.str.startswith(\"Post\"))\n",
    "              #&((adata.obs.Efficacy==\"SD\")\n",
    "              #|(adata.obs.Efficacy==\"PD\"))\n",
    "             # &(adata.obs.Treatment!=\"Chemo\")\n",
    "              &(adata.obs.Origin==\"b\")]"
   ]
  },
  {
   "cell_type": "code",
   "execution_count": null,
   "metadata": {},
   "outputs": [],
   "source": [
    "#plot umap grouped by treatment\n",
    "plot_pattern=\"anno_sub\"\n",
    "scv.pl.scatter(adata, save=f\"{plot_pattern}_umap.pdf\",\n",
    "               basis=\"umap\",\n",
    "           color=plot_pattern,legend_loc=\"right\",\n",
    "            size=10, alpha=0.8,\n",
    "            palette=[ \"DeepSkyBlue\",\"Pink\",\"darkviolet\",\n",
    "                    \"SpringGreen\",\"forestgreen\",\"maroon\"\n",
    "            ,\"PapayaWhip\", \"gold\",\"orchid\",\"crimson\"\n",
    "            ,\"firebrick\",\"olivedrab\",\"lightcoral\",\"greenyellow\"\n",
    "            ,\"tan\",\"slategrey\",\"coral\",\"lightseagreen\"\n",
    "            ,\"lightsteelblue\",\"lightskyblue\",\"dimgrey\",\n",
    "            \"indigo\",\"darkturquoise\"], )"
   ]
  },
  {
   "cell_type": "code",
   "execution_count": null,
   "metadata": {},
   "outputs": [],
   "source": [
    "# we can plot feature percentage in the population we group cells, treatment or clusters\n",
    "# first we need to call a cell_fraction matrix containing matched feature and group_by information of each single cell\n",
    "feature=\"anno_sub\"\n",
    "group_by=\"Sample\"#treatment Group\n",
    "cell_fraction=pd.DataFrame(adata_s.obs[group_by].values,columns=[group_by],index=adata_s.obs[feature])"
   ]
  },
  {
   "cell_type": "code",
   "execution_count": null,
   "metadata": {},
   "outputs": [],
   "source": [
    "fraction=pd.DataFrame([])\n",
    "for i in np.unique(adata_s.obs[group_by]):\n",
    "    adata_=adata_s[adata_s.obs[group_by]==i]\n",
    "    fraction_=np.array([])\n",
    "    for x in np.unique(adata_s.obs[feature]):\n",
    "        frac=len(adata_[adata_.obs[feature]==x])\n",
    "        fraction_=pd.Series(np.append(fraction_, frac))\n",
    "    fraction=pd.concat([fraction, fraction_], axis=1)\n",
    "fraction.columns=np.unique(adata_s.obs[group_by])\n",
    "fraction.index=np.unique(adata_s.obs[feature])"
   ]
  },
  {
   "cell_type": "code",
   "execution_count": null,
   "metadata": {},
   "outputs": [],
   "source": [
    "# we calculate the percentage of each feature in each group\n",
    "fraction.loc[\"sum\"]=fraction.sum(axis=0)\n",
    "for i in np.unique(adata_s.obs[feature]):\n",
    "    fraction.loc[f\"{i}_pct\"]=fraction.loc[i]/fraction.loc[\"sum\"]\n",
    "fraction.to_csv(f\"{project_ID}_figures/{feature}_fraction_{group_by}.csv\")"
   ]
  },
  {
   "cell_type": "code",
   "execution_count": null,
   "metadata": {},
   "outputs": [],
   "source": [
    "# we drop the cell number rows and leave the percentage rows\n",
    "fraction_=fraction.T\n",
    "for i in np.unique(adata_s.obs[feature]):\n",
    "    fraction_=fraction_.drop([i],axis=1)\n",
    "fraction_=fraction_.drop([\"sum\"],axis=1)\n",
    "fraction_"
   ]
  },
  {
   "cell_type": "code",
   "execution_count": null,
   "metadata": {},
   "outputs": [],
   "source": [
    "adata.write(f\"{project_ID}_figures/{project_ID}_anno_sub.h5ad\")"
   ]
  },
  {
   "cell_type": "code",
   "execution_count": null,
   "metadata": {},
   "outputs": [],
   "source": []
  },
  {
   "cell_type": "code",
   "execution_count": null,
   "metadata": {},
   "outputs": [],
   "source": []
  },
  {
   "cell_type": "code",
   "execution_count": null,
   "metadata": {},
   "outputs": [],
   "source": []
  },
  {
   "cell_type": "code",
   "execution_count": null,
   "metadata": {},
   "outputs": [],
   "source": []
  },
  {
   "cell_type": "code",
   "execution_count": null,
   "metadata": {},
   "outputs": [],
   "source": []
  },
  {
   "cell_type": "code",
   "execution_count": null,
   "metadata": {},
   "outputs": [],
   "source": []
  }
 ],
 "metadata": {
  "kernelspec": {
   "display_name": "Python 3",
   "language": "python",
   "name": "python3"
  },
  "language_info": {
   "codemirror_mode": {
    "name": "ipython",
    "version": 3
   },
   "file_extension": ".py",
   "mimetype": "text/x-python",
   "name": "python",
   "nbconvert_exporter": "python",
   "pygments_lexer": "ipython3",
   "version": "3.8.5"
  }
 },
 "nbformat": 4,
 "nbformat_minor": 4
}
