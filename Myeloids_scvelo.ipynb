{
 "cells": [
  {
   "cell_type": "markdown",
   "metadata": {},
   "source": [
    "## velocity analysis for myeloid cells\n",
    "\n",
    "**Author:Dr.Xi Li**\n",
    "\n",
    "**Created: 07/28/2021**\n",
    "\n",
    "**Language: Python**\n",
    "\n"
   ]
  },
  {
   "cell_type": "code",
   "execution_count": null,
   "metadata": {},
   "outputs": [],
   "source": [
    "from matplotlib import rcParams\n",
    "import matplotlib.pyplot as plt\n",
    "import scvelo as scv\n",
    "import loompy\n",
    "import pandas as pd\n",
    "import numpy as np\n",
    "import os\n",
    "import scanpy as sc\n",
    "import scipy.stats as stats\n",
    "from io import StringIO\n",
    "from sklearn import linear_model\n",
    "from sklearn.svm import SVR\n",
    "import seaborn as sns\n",
    "import scanpy.external as sce\n",
    "%matplotlib inline"
   ]
  },
  {
   "cell_type": "code",
   "execution_count": null,
   "metadata": {},
   "outputs": [],
   "source": [
    "scv.settings.verbosity = 3  # show errors(0), warnings(1), info(2), hints(3)\n",
    "scv.settings.presenter_view = True  # set max width size for presenter view\n",
    "scv.settings.set_figure_params('scvelo')\n",
    "# for beautified visualization\n",
    "\n",
    "\n",
    "plt.rcParams['pdf.fonttype'] = 42\n",
    "plt.rcParams['ps.fonttype'] = 42"
   ]
  },
  {
   "cell_type": "markdown",
   "metadata": {},
   "source": [
    "## input sample path\n",
    "\n",
    "First lets find the directory that we are working in\n",
    "\n",
    "**Note:  SigsDir must be changed depending on the user to allow for proper use of this script**"
   ]
  },
  {
   "cell_type": "code",
   "execution_count": null,
   "metadata": {},
   "outputs": [],
   "source": [
    "os.getcwd()"
   ]
  },
  {
   "cell_type": "code",
   "execution_count": null,
   "metadata": {},
   "outputs": [],
   "source": [
    "#set directory to where signature gene lists locates\n",
    "SigsDir=\"/mnt/533ee9c3-18c0-4c72-a09e-d9ce5a10ef9e/sig\"\n",
    "AnnoRefDir=\"/mnt/533ee9c3-18c0-4c72-a09e-d9ce5a10ef9e/T_anno_ref\""
   ]
  },
  {
   "cell_type": "markdown",
   "metadata": {},
   "source": [
    "## Unique Gene Names\n",
    "\n",
    "First we want to select the genes that we wish to look at and format them into a data frame that we can use later on"
   ]
  },
  {
   "cell_type": "code",
   "execution_count": null,
   "metadata": {},
   "outputs": [],
   "source": [
    "#set the directory for outputs\n",
    "project_ID=\"pool_M1_M2_MKI67\"\n",
    "scv.settings.figdir=f'{project_ID}_figures'"
   ]
  },
  {
   "cell_type": "code",
   "execution_count": null,
   "metadata": {},
   "outputs": [],
   "source": [
    "adata=scv.read (f\"{project_ID}_figures/{project_ID}_anno_dy_reg4.h5ad\")"
   ]
  },
  {
   "cell_type": "code",
   "execution_count": null,
   "metadata": {},
   "outputs": [],
   "source": [
    "#store a h5ad file for further faster loadinig\n",
    "adata.var_names_make_unique(\"_\")\n",
    "\n",
    "#we need to make a directory to store the files in\n",
    "try:\n",
    "    directoryName=project_ID+\"_figures\"\n",
    "    os.mkdir(directoryName)\n",
    "except:\n",
    "    pass\n",
    "\n",
    "#we need to make a directory to store the files in\n",
    "#we need to make a directory to store the files in\n",
    "try:\n",
    "    directoryName=project_ID+\"_DEG\"\n",
    "    os.mkdir(directoryName)\n",
    "except:\n",
    "    pass\n"
   ]
  },
  {
   "cell_type": "code",
   "execution_count": null,
   "metadata": {},
   "outputs": [],
   "source": [
    "import densmap"
   ]
  },
  {
   "cell_type": "code",
   "execution_count": null,
   "metadata": {},
   "outputs": [],
   "source": [
    "#This section can create a densmap if disired \n",
    "embedding, ro, re = densmap.densMAP(n_neighbors=150, n_epochs=500, dens_frac=0.3,\n",
    "                                    min_dist=0.2,spread=2,\n",
    "                                    dens_lambda=0.7).fit_transform(adata.to_df(layer=\"Ms\"))\n",
    "    \n",
    "#input densmap information into adata\n",
    "adata.obsm[\"X_densmap\"]=embedding"
   ]
  },
  {
   "cell_type": "markdown",
   "metadata": {},
   "source": [
    "# TRAJECTORY"
   ]
  },
  {
   "cell_type": "code",
   "execution_count": null,
   "metadata": {},
   "outputs": [],
   "source": [
    "adata = sc.read(f'{project_ID}_figures/{project_ID}_anno.h5ad')"
   ]
  },
  {
   "cell_type": "code",
   "execution_count": null,
   "metadata": {},
   "outputs": [],
   "source": [
    "#calculate velocity with stochastic mode first\n",
    "scv.tl.velocity(adata,  mode='stochastic',use_latent_time=False)\n",
    "scv.tl.velocity_graph(adata)"
   ]
  },
  {
   "cell_type": "code",
   "execution_count": null,
   "metadata": {},
   "outputs": [],
   "source": [
    "#calculate and plot out pseudotime\n",
    "#scv.tl.terminal_states(adata, self_transitions=False)\n",
    "scv.tl.velocity_pseudotime(adata)\n",
    "scv.pl.scatter(adata, color='velocity_pseudotime', cmap='gnuplot', perc=(2,98), save=\"pseudotime.pdf\",basis=\"umap\")"
   ]
  },
  {
   "cell_type": "code",
   "execution_count": null,
   "metadata": {
    "scrolled": true
   },
   "outputs": [],
   "source": [
    "#we have to calculate velocity first before we recover dynamics \n",
    "scv.tl.recover_dynamics(adata ,plot_results=False, \n",
    "                        fit_connected_states=True, use_raw=False, n_jobs=20,\n",
    "                        fit_scaling=True)"
   ]
  },
  {
   "cell_type": "code",
   "execution_count": null,
   "metadata": {},
   "outputs": [],
   "source": [
    "#calculate velocity one more time with dynamical mode\n",
    "scv.tl.velocity(adata,  mode='dynamical',use_latent_time=True)\n",
    "scv.tl.velocity_graph(adata)"
   ]
  },
  {
   "cell_type": "code",
   "execution_count": null,
   "metadata": {},
   "outputs": [],
   "source": [
    "#calculate and plot out dynamical pseudotime\n",
    "#scv.tl.terminal_states(adata, self_transitions=False)\n",
    "scv.tl.velocity_pseudotime(adata)\n",
    "scv.pl.scatter(adata, color='velocity_pseudotime', cmap='gnuplot', perc=(2,98), save=\"pseudotime.pdf\",basis=\"umap\")"
   ]
  },
  {
   "cell_type": "code",
   "execution_count": null,
   "metadata": {},
   "outputs": [],
   "source": [
    "#sometimes we have to do latent-time if the inter population transition is not remarkable, you can refer to their oringinal paper for better understanging of the differences between pseudotime and latent-time\n",
    "scv.tl.terminal_states(adata, self_transitions=True)\n",
    "scv.tl.latent_time(adata, vkey='velocity', min_likelihood=0.58, min_confidence=0.9,\n",
    "                  min_corr_diffusion=0.1, weight_diffusion=True, root_key=\"root_cells\",\n",
    "                   end_key=\"end_points\", t_max=50, copy=False)\n",
    "scv.tl.velocity(adata,  mode='dynamical',use_latent_time=True)\n",
    "scv.tl.velocity_graph(adata)\n",
    "scv.pl.scatter(adata, color='latent_time', cmap='YlOrRd', perc=(1,99),smooth=5, save=\"latent_time_tmp.pdf\",basis=\"densmap\")"
   ]
  },
  {
   "cell_type": "code",
   "execution_count": null,
   "metadata": {},
   "outputs": [],
   "source": [
    "#summarize the arrows of each cluster into 1 single big arrow\n",
    "adata.uns['neighbors']['distances'] = adata.obsp['distances']\n",
    "adata.uns['neighbors']['connectivities'] = adata.obsp['connectivities']\n",
    "\n",
    "scv.tl.paga(adata,use_time_prior=\"latent_time\", root_key=\"root_cells\", end_key=\"end_points\" #when we only do velocity pseudotime trajectory we set the use_time_prior=\"velociyt_pseudotime\", when we do latent time trajectory we have to chage the prior time into latent time\n",
    "           ,groups=\"anno_clusters_sub\",\n",
    "            threshold_root_end_prior=0.95,\n",
    "           #,groups='velocity_clusters'\n",
    "           )\n",
    "df = scv.get_df(adata, 'paga/transitions_confidence', precision=2).T\n",
    "df.style.background_gradient(cmap='Blues').format('{:.2g}')"
   ]
  },
  {
   "cell_type": "code",
   "execution_count": null,
   "metadata": {},
   "outputs": [],
   "source": [
    "#we can set the color of the big dot into Sample_Cluster so that we will get a pie chart of the percentage of each treatment inside 1 cluster\n",
    "scv.pl.paga(adata, basis='umap', size=20, alpha=0.7,\n",
    "            min_edge_width=1.5, node_size_scale=1\n",
    "            ,save=\"transition_densmap_anno.svg\"\n",
    "            #,color=\"velocity_clusters\"\n",
    "            ,color=\"anno_clusters\"\n",
    "            ,threshold=0.1,minimum_spanning_tree=False,\n",
    "           )"
   ]
  },
  {
   "cell_type": "code",
   "execution_count": null,
   "metadata": {},
   "outputs": [],
   "source": [
    "#plot velocity and expression plots of each gene in the gene list\n",
    "scv.pl.velocity(adata,asymm, ncols=2,\n",
    "                #save=\"gene_seleted_merge.pdf\", \n",
    "                basis=\"umap\", color=\"clusters\", figsize=(7,6)\n",
    "               )"
   ]
  },
  {
   "cell_type": "code",
   "execution_count": null,
   "metadata": {},
   "outputs": [],
   "source": [
    "adata.write(f'{project_ID}_figures/{project_ID}_anno_dy.h5ad')"
   ]
  }
 ],
 "metadata": {
  "kernelspec": {
   "display_name": "Python 3",
   "language": "python",
   "name": "python3"
  },
  "language_info": {
   "codemirror_mode": {
    "name": "ipython",
    "version": 3
   },
   "file_extension": ".py",
   "mimetype": "text/x-python",
   "name": "python",
   "nbconvert_exporter": "python",
   "pygments_lexer": "ipython3",
   "version": "3.8.5"
  }
 },
 "nbformat": 4,
 "nbformat_minor": 4
}
