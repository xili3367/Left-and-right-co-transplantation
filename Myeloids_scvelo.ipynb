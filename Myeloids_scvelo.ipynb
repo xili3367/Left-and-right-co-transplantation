{
 "cells": [
  {
   "cell_type": "markdown",
   "metadata": {},
   "source": [
    "## velocity analysis for myeloid cells\n",
    "\n",
    "**Author:Dr.Xi Li**\n",
    "\n",
    "**Created: 07/28/2021**\n",
    "\n",
    "**Language: Python**\n",
    "\n"
   ]
  },
  {
   "cell_type": "code",
   "execution_count": 1,
   "metadata": {},
   "outputs": [],
   "source": [
    "from matplotlib import rcParams\n",
    "import matplotlib.pyplot as plt\n",
    "import scvelo as scv\n",
    "import loompy\n",
    "import pandas as pd\n",
    "import numpy as np\n",
    "import os\n",
    "import scanpy as sc\n",
    "import scipy.stats as stats\n",
    "from io import StringIO\n",
    "from sklearn import linear_model\n",
    "from sklearn.svm import SVR\n",
    "import seaborn as sns\n",
    "import scanpy.external as sce\n",
    "%matplotlib inline"
   ]
  },
  {
   "cell_type": "code",
   "execution_count": 2,
   "metadata": {},
   "outputs": [],
   "source": [
    "scv.settings.verbosity = 3  # show errors(0), warnings(1), info(2), hints(3)\n",
    "scv.settings.presenter_view = True  # set max width size for presenter view\n",
    "scv.settings.set_figure_params('scvelo')\n",
    "# for beautified visualization\n",
    "\n",
    "\n",
    "plt.rcParams['pdf.fonttype'] = 42\n",
    "plt.rcParams['ps.fonttype'] = 42"
   ]
  },
  {
   "cell_type": "markdown",
   "metadata": {},
   "source": [
    "## input sample path\n",
    "\n",
    "First lets find the directory that we are working in\n",
    "\n",
    "**Note:  SigsDir must be changed depending on the user to allow for proper use of this script**"
   ]
  },
  {
   "cell_type": "code",
   "execution_count": 3,
   "metadata": {},
   "outputs": [
    {
     "data": {
      "text/plain": [
       "'/mnt/c9b6130c-37e5-4f62-becc-dd4240b42021/T127_T22_ola_2'"
      ]
     },
     "execution_count": 3,
     "metadata": {},
     "output_type": "execute_result"
    }
   ],
   "source": [
    "os.getcwd()"
   ]
  },
  {
   "cell_type": "code",
   "execution_count": null,
   "metadata": {},
   "outputs": [],
   "source": [
    "#set directory to where signature gene lists locates\n",
    "SigsDir=\"/mnt/533ee9c3-18c0-4c72-a09e-d9ce5a10ef9e/sig\"\n",
    "AnnoRefDir=\"/mnt/533ee9c3-18c0-4c72-a09e-d9ce5a10ef9e/T_anno_ref\""
   ]
  },
  {
   "cell_type": "markdown",
   "metadata": {},
   "source": [
    "## Unique Gene Names\n",
    "\n",
    "First we want to select the genes that we wish to look at and format them into a data frame that we can use later on"
   ]
  },
  {
   "cell_type": "code",
   "execution_count": null,
   "metadata": {},
   "outputs": [],
   "source": [
    "#set the directory for outputs\n",
    "project_ID=\"pool_M1_M2_MKI67\"\n",
    "scv.settings.figdir=f'{project_ID}_figures'"
   ]
  },
  {
   "cell_type": "code",
   "execution_count": null,
   "metadata": {},
   "outputs": [],
   "source": [
    "adata=scv.read (f\"{project_ID}_figures/{project_ID}_anno_dy_reg4.h5ad\")"
   ]
  },
  {
   "cell_type": "code",
   "execution_count": null,
   "metadata": {},
   "outputs": [],
   "source": [
    "#store a h5ad file for further faster loadinig\n",
    "adata.var_names_make_unique(\"_\")\n",
    "\n",
    "#we need to make a directory to store the files in\n",
    "try:\n",
    "    directoryName=project_ID+\"_figures\"\n",
    "    os.mkdir(directoryName)\n",
    "except:\n",
    "    pass\n",
    "\n",
    "#we need to make a directory to store the files in\n",
    "#we need to make a directory to store the files in\n",
    "try:\n",
    "    directoryName=project_ID+\"_DEG\"\n",
    "    os.mkdir(directoryName)\n",
    "except:\n",
    "    pass\n"
   ]
  },
  {
   "cell_type": "code",
   "execution_count": null,
   "metadata": {},
   "outputs": [],
   "source": [
    "import densmap"
   ]
  },
  {
   "cell_type": "code",
   "execution_count": null,
   "metadata": {},
   "outputs": [],
   "source": [
    "#This section can create a densmap if disired \n",
    "embedding, ro, re = densmap.densMAP(n_neighbors=150, n_epochs=500, dens_frac=0.3,\n",
    "                                    min_dist=0.2,spread=2,\n",
    "                                    dens_lambda=0.7).fit_transform(adata.to_df(layer=\"Ms\"))\n",
    "    \n",
    "#input densmap information into adata\n",
    "adata.obsm[\"X_densmap\"]=embedding"
   ]
  },
  {
   "cell_type": "markdown",
   "metadata": {},
   "source": [
    "# TRAJECTORY"
   ]
  },
  {
   "cell_type": "code",
   "execution_count": null,
   "metadata": {},
   "outputs": [],
   "source": [
    "adata = sc.read(f'{project_ID}_figures/{project_ID}_anno.h5ad')"
   ]
  },
  {
   "cell_type": "code",
   "execution_count": null,
   "metadata": {},
   "outputs": [],
   "source": [
    "#calculate velocity with stochastic mode first\n",
    "scv.tl.velocity(adata,  mode='stochastic',use_latent_time=False)\n",
    "scv.tl.velocity_graph(adata)"
   ]
  },
  {
   "cell_type": "code",
   "execution_count": null,
   "metadata": {},
   "outputs": [],
   "source": [
    "#calculate and plot out pseudotime\n",
    "#scv.tl.terminal_states(adata, self_transitions=False)\n",
    "scv.tl.velocity_pseudotime(adata)\n",
    "scv.pl.scatter(adata, color='velocity_pseudotime', cmap='gnuplot', perc=(2,98), save=\"pseudotime.pdf\",basis=\"umap\")"
   ]
  },
  {
   "cell_type": "code",
   "execution_count": null,
   "metadata": {
    "scrolled": true
   },
   "outputs": [],
   "source": [
    "#we have to calculate velocity first before we recover dynamics \n",
    "scv.tl.recover_dynamics(adata ,plot_results=False, \n",
    "                        fit_connected_states=True, use_raw=False, n_jobs=20,\n",
    "                        fit_scaling=True)"
   ]
  },
  {
   "cell_type": "code",
   "execution_count": null,
   "metadata": {},
   "outputs": [],
   "source": [
    "#calculate velocity one more time with dynamical mode\n",
    "scv.tl.velocity(adata,  mode='dynamical',use_latent_time=True)\n",
    "scv.tl.velocity_graph(adata)"
   ]
  },
  {
   "cell_type": "code",
   "execution_count": null,
   "metadata": {},
   "outputs": [],
   "source": [
    "#calculate and plot out dynamical pseudotime\n",
    "#scv.tl.terminal_states(adata, self_transitions=False)\n",
    "scv.tl.velocity_pseudotime(adata)\n",
    "scv.pl.scatter(adata, color='velocity_pseudotime', cmap='gnuplot', perc=(2,98), save=\"pseudotime.pdf\",basis=\"umap\")"
   ]
  },
  {
   "cell_type": "code",
   "execution_count": null,
   "metadata": {},
   "outputs": [],
   "source": [
    "#sometimes we have to do latent-time if the inter population transition is not remarkable, you can refer to their oringinal paper for better understanging of the differences between pseudotime and latent-time\n",
    "scv.tl.terminal_states(adata, self_transitions=True)\n",
    "scv.tl.latent_time(adata, vkey='velocity', min_likelihood=0.58, min_confidence=0.9,\n",
    "                  min_corr_diffusion=0.1, weight_diffusion=True, root_key=\"root_cells\",\n",
    "                   end_key=\"end_points\", t_max=50, copy=False)\n",
    "scv.tl.velocity(adata,  mode='dynamical',use_latent_time=True)\n",
    "scv.tl.velocity_graph(adata)\n",
    "scv.pl.scatter(adata, color='latent_time', cmap='YlOrRd', perc=(1,99),smooth=5, save=\"latent_time_tmp.pdf\",basis=\"densmap\")"
   ]
  },
  {
   "cell_type": "code",
   "execution_count": null,
   "metadata": {},
   "outputs": [],
   "source": [
    "#summarize the arrows of each cluster into 1 single big arrow\n",
    "adata.uns['neighbors']['distances'] = adata.obsp['distances']\n",
    "adata.uns['neighbors']['connectivities'] = adata.obsp['connectivities']\n",
    "\n",
    "scv.tl.paga(adata,use_time_prior=\"latent_time\", root_key=\"root_cells\", end_key=\"end_points\" #when we only do velocity pseudotime trajectory we set the use_time_prior=\"velociyt_pseudotime\", when we do latent time trajectory we have to chage the prior time into latent time\n",
    "           ,groups=\"anno_clusters_sub\",\n",
    "            threshold_root_end_prior=0.95,\n",
    "           #,groups='velocity_clusters'\n",
    "           )\n",
    "df = scv.get_df(adata, 'paga/transitions_confidence', precision=2).T\n",
    "df.style.background_gradient(cmap='Blues').format('{:.2g}')"
   ]
  },
  {
   "cell_type": "code",
   "execution_count": null,
   "metadata": {},
   "outputs": [],
   "source": [
    "#we can set the color of the big dot into Sample_Cluster so that we will get a pie chart of the percentage of each treatment inside 1 cluster\n",
    "scv.pl.paga(adata, basis='umap', size=20, alpha=0.7,\n",
    "            min_edge_width=1.5, node_size_scale=1\n",
    "            ,save=\"transition_densmap_anno.svg\"\n",
    "            #,color=\"velocity_clusters\"\n",
    "            ,color=\"anno_clusters\"\n",
    "            ,threshold=0.1,minimum_spanning_tree=False,\n",
    "           )"
   ]
  },
  {
   "cell_type": "code",
   "execution_count": null,
   "metadata": {},
   "outputs": [],
   "source": [
    "#plot velocity and expression plots of each gene in the gene list\n",
    "scv.pl.velocity(adata,asymm, ncols=2,\n",
    "                #save=\"gene_seleted_merge.pdf\", \n",
    "                basis=\"umap\", color=\"clusters\", figsize=(7,6)\n",
    "               )"
   ]
  },
  {
   "cell_type": "code",
   "execution_count": null,
   "metadata": {},
   "outputs": [],
   "source": [
    "adata.write(f'{project_ID}_figures/{project_ID}_anno_dy.h5ad')"
   ]
  },
  {
   "cell_type": "markdown",
   "metadata": {},
   "source": [
    "## correlation heatmap"
   ]
  },
  {
   "cell_type": "code",
   "execution_count": null,
   "metadata": {},
   "outputs": [],
   "source": [
    "raw=pd.DataFrame(data.adata.raw.X.toarray(),index=adata.obs_names, columns=adata.raw.var_names)"
   ]
  },
  {
   "cell_type": "code",
   "execution_count": 73,
   "metadata": {},
   "outputs": [
    {
     "data": {
      "text/plain": [
       "AnnData object with n_obs × n_vars = 8411 × 32285"
      ]
     },
     "execution_count": 73,
     "metadata": {},
     "output_type": "execute_result"
    }
   ],
   "source": [
    "adata_raw= sc.AnnData(raw)\n",
    "for i in np.unique(adata.obs.columns):\n",
    "    adata_raw.obs[i]=adata.obs[i]"
   ]
  },
  {
   "cell_type": "code",
   "execution_count": 76,
   "metadata": {},
   "outputs": [],
   "source": [
    "sc.pp.normalize_total(adata_raw, target_sum=1e4)\n",
    "sc.pp.log1p(adata)"
   ]
  },
  {
   "cell_type": "code",
   "execution_count": 77,
   "metadata": {},
   "outputs": [],
   "source": [
    "raw=adata_raw.to_df()"
   ]
  },
  {
   "cell_type": "code",
   "execution_count": null,
   "metadata": {},
   "outputs": [],
   "source": [
    "score_list=[\"latent_time\",\"Regulon(Nfkb1(+))\",\"Regulon(Mef2c(+))\",\"Regulon(Irf8(+))\",\"Regulon(Mef2a(+))\",\"Regulon(Bcl11a(+))\",\n",
    "                      \"Regulon(Bhlhe40(+))\",\"Regulon(E2f7(+))\",\"Regulon(Ezh2(+))\",\n",
    "                      \"Regulon(Klf2(+))\",\"Regulon(Maf(+))\",\"Regulon(Spic(+))\",\"Regulon(Tcf4(+))\",\"protumor_cytokine_score\",\n",
    "            \"reactome_phagocytosis_score\",\"KEGG_phagocytosis_score\",\"MM_GO_antigen_presentation_score\",\"antitumor_cytokine_score\",]\n",
    "gene_list=[\"Cd209a\",\"Csf1r\",\"Il12b\",\"Cd86\",\"Itgax\",\"Cd74\",\"Cd44\",\"Mrc1\",\"Arg1\",\"Msr1\",\"Il10\",\"Siglec1\",\"Ccl8\",\"C5ar1\",]"
   ]
  },
  {
   "cell_type": "code",
   "execution_count": null,
   "metadata": {},
   "outputs": [],
   "source": [
    "group=\"Sample\""
   ]
  },
  {
   "cell_type": "code",
   "execution_count": null,
   "metadata": {},
   "outputs": [],
   "source": [
    "import math"
   ]
  },
  {
   "cell_type": "code",
   "execution_count": null,
   "metadata": {},
   "outputs": [],
   "source": [
    "corr_list=np.array([])\n",
    "for i in score_list:\n",
    "    for k in score_list:\n",
    "        x_label=i\n",
    "        score_x = pd.DataFrame(adata_s.obs[x_label].values,columns=[\"score\"],index=adata_s.obs[group])\n",
    "        score_x = score_x.groupby(level=0).mean()\n",
    "        \n",
    "        y_label=k\n",
    "        score_y = pd.DataFrame(adata_s.obs[y_label].values,columns=[\"score\"],index=adata_s.obs[group])\n",
    "        score_y = score_y.groupby(level=0).mean()\n",
    "        \n",
    "        x=score_x[\"score\"].values\n",
    "        y=score_y[\"score\"]\n",
    "        r,p = stats.pearsonr(x, y) \n",
    "        \n",
    "        corr_list=np.append(corr_list,r)\n",
    "index=np.array([])\n",
    "for i in score_list:\n",
    "    for k in score_list:\n",
    "        index=np.append(index, i+\"-\"+k)\n",
    "corr=pd.Series(corr_list, index=index)"
   ]
  },
  {
   "cell_type": "code",
   "execution_count": null,
   "metadata": {},
   "outputs": [],
   "source": [
    "corr_list=np.array([])\n",
    "for i in score_list:\n",
    "    for k in gene_list:\n",
    "        x_label=i\n",
    "        score_x = pd.DataFrame(adata_s.obs[x_label].values,columns=[\"score\"],index=adata_s.obs[group])\n",
    "        score_x = score_x.groupby(level=0).mean()\n",
    "        \n",
    "        y_label=k\n",
    "        gene_y = raw.loc[:,[y_label]]\n",
    "        gene_y.index=adata_s.obs[group]\n",
    "        gene_y =gene_y.groupby(level=0).mean()\n",
    "        \n",
    "        x=score_x[\"score\"].values\n",
    "        y=gene_y.loc[:,y_label].values\n",
    "        r,p = stats.pearsonr(x, y) \n",
    "        \n",
    "        corr_list=np.append(corr_list,r)\n",
    "index=np.array([])\n",
    "for i in score_list:\n",
    "    for k in gene_list:\n",
    "        index=np.append(index, i+\"-\"+k)\n",
    "corr2=pd.Series(corr_list, index=index)"
   ]
  },
  {
   "cell_type": "code",
   "execution_count": null,
   "metadata": {},
   "outputs": [],
   "source": [
    "corr_list=np.array([])\n",
    "for i in gene_list:\n",
    "    for k in gene_list:\n",
    "        x_label=i\n",
    "        gene_x = raw.loc[:,[x_label]]\n",
    "        gene_x.index=adata_s.obs[group]\n",
    "        gene_x =gene_x.groupby(level=0).mean()\n",
    "        \n",
    "        y_label=k\n",
    "        gene_y = raw.loc[:,[y_label]]\n",
    "        gene_y.index=adata_s.obs[group]\n",
    "        gene_y =gene_y.groupby(level=0).mean()\n",
    "        \n",
    "        x=gene_x.loc[:,x_label].values\n",
    "        y=gene_y.loc[:,y_label].values\n",
    "        r,p = stats.pearsonr(x, y) \n",
    "        \n",
    "        corr_list=np.append(corr_list,r)\n",
    "index=np.array([])\n",
    "for i in gene_list:\n",
    "    for k in gene_list:\n",
    "        index=np.append(index, i+\"-\"+k)\n",
    "corr3=pd.Series(corr_list, index=index)"
   ]
  },
  {
   "cell_type": "code",
   "execution_count": null,
   "metadata": {},
   "outputs": [],
   "source": [
    "corr_list=np.array([])\n",
    "for i in gene_list:\n",
    "    for k in score_list:\n",
    "        x_label=i\n",
    "        gene_x = raw.loc[:,[x_label]]\n",
    "        gene_x.index=adata_s.obs[group]\n",
    "        gene_x =gene_x.groupby(level=0).mean()\n",
    "        \n",
    "        y_label=k\n",
    "        score_y = pd.DataFrame(adata_s.obs[y_label].values,columns=[\"score\"],index=adata_s.obs[group])\n",
    "        score_y = score_y.groupby(level=0).mean()\n",
    "        \n",
    "        x=gene_x.loc[:,x_label].values\n",
    "        y=score_y[\"score\"]\n",
    "        r,p = stats.pearsonr(x, y) \n",
    "        \n",
    "        corr_list=np.append(corr_list,r)\n",
    "index=np.array([])\n",
    "for i in gene_list:\n",
    "    for k in score_list:\n",
    "        index=np.append(index, i+\"-\"+k)\n",
    "corr4=pd.Series(corr_list, index=index)"
   ]
  },
  {
   "cell_type": "code",
   "execution_count": null,
   "metadata": {},
   "outputs": [],
   "source": [
    "corr_list=np.array([])\n",
    "for i in score_list:\n",
    "    for k in score_list:\n",
    "        x_label=i\n",
    "        score_x = pd.DataFrame(adata_s.obs[x_label].values,columns=[\"score\"],index=adata_s.obs[group])\n",
    "        score_x = score_x.groupby(level=0).mean()\n",
    "        \n",
    "        y_label=k\n",
    "        score_y = pd.DataFrame(adata_s.obs[y_label].values,columns=[\"score\"],index=adata_s.obs[group])\n",
    "        score_y = score_y.groupby(level=0).mean()\n",
    "        \n",
    "        x=score_x[\"score\"].values\n",
    "        y=score_y[\"score\"]\n",
    "        r,p = stats.pearsonr(x, y) \n",
    "        \n",
    "        corr_list=np.append(corr_list,math.log10(p+math.exp(-7)))\n",
    "index=np.array([])\n",
    "for i in score_list:\n",
    "    for k in score_list:\n",
    "        index=np.append(index, i+\"-\"+k)\n",
    "pvalues=pd.Series(corr_list, index=index)"
   ]
  },
  {
   "cell_type": "code",
   "execution_count": null,
   "metadata": {},
   "outputs": [],
   "source": [
    "corr_list=np.array([])\n",
    "for i in score_list:\n",
    "    for k in gene_list:\n",
    "        x_label=i\n",
    "        score_x = pd.DataFrame(adata_s.obs[x_label].values,columns=[\"score\"],index=adata_s.obs[group])\n",
    "        score_x = score_x.groupby(level=0).mean()\n",
    "        \n",
    "        y_label=k\n",
    "        gene_y = raw.loc[:,[y_label]]\n",
    "        gene_y.index=adata_s.obs[group]\n",
    "        gene_y =gene_y.groupby(level=0).mean()\n",
    "        \n",
    "        x=score_x[\"score\"].values\n",
    "        y=gene_y.loc[:,y_label].values\n",
    "        r,p = stats.pearsonr(x, y) \n",
    "        \n",
    "        corr_list=np.append(corr_list,math.log10(p+math.exp(-7)))\n",
    "index=np.array([])\n",
    "for i in score_list:\n",
    "    for k in gene_list:\n",
    "        index=np.append(index, i+\"-\"+k)\n",
    "pvalues2=pd.Series(corr_list, index=index)"
   ]
  },
  {
   "cell_type": "code",
   "execution_count": null,
   "metadata": {},
   "outputs": [],
   "source": [
    "corr_list=np.array([])\n",
    "for i in gene_list:\n",
    "    for k in gene_list:\n",
    "        x_label=i\n",
    "        gene_x = raw.loc[:,[x_label]]\n",
    "        gene_x.index=adata_s.obs[group]\n",
    "        gene_x =gene_x.groupby(level=0).mean()\n",
    "        \n",
    "        y_label=k\n",
    "        gene_y = raw.loc[:,[y_label]]\n",
    "        gene_y.index=adata_s.obs[group]\n",
    "        gene_y =gene_y.groupby(level=0).mean()\n",
    "        \n",
    "        x=gene_x.loc[:,x_label].values\n",
    "        y=gene_y.loc[:,y_label].values\n",
    "        r,p = stats.pearsonr(x, y) \n",
    "        \n",
    "        corr_list=np.append(corr_list,math.log10(p+math.exp(-7)))\n",
    "index=np.array([])\n",
    "for i in gene_list:\n",
    "    for k in gene_list:\n",
    "        index=np.append(index, i+\"-\"+k)\n",
    "pvalues3=pd.Series(corr_list, index=index)"
   ]
  },
  {
   "cell_type": "code",
   "execution_count": null,
   "metadata": {},
   "outputs": [],
   "source": [
    "corr_list=np.array([])\n",
    "for i in gene_list:\n",
    "    for k in score_list:\n",
    "        x_label=i\n",
    "        gene_x = raw.loc[:,[x_label]]\n",
    "        gene_x.index=adata_s.obs[group]\n",
    "        gene_x =gene_x.groupby(level=0).mean()\n",
    "        \n",
    "        y_label=k\n",
    "        score_y = pd.DataFrame(adata_s.obs[y_label].values,columns=[\"score\"],index=adata_s.obs[group])\n",
    "        score_y = score_y.groupby(level=0).mean()\n",
    "        \n",
    "        x=gene_x.loc[:,x_label].values\n",
    "        y=score_y[\"score\"]\n",
    "        r,p = stats.pearsonr(x, y) \n",
    "        \n",
    "        corr_list=np.append(corr_list,math.log10(p+math.exp(-7)))\n",
    "index=np.array([])\n",
    "for i in gene_list:\n",
    "    for k in score_list:\n",
    "        index=np.append(index, i+\"-\"+k)\n",
    "pvalues4=pd.Series(corr_list, index=index)"
   ]
  },
  {
   "cell_type": "code",
   "execution_count": null,
   "metadata": {},
   "outputs": [],
   "source": [
    "corr_total=pd.concat([corr, corr2,corr3,corr4])\n",
    "corr_total=pd.DataFrame(corr_total, columns=[\"R\"])\n",
    "X=np.array([])\n",
    "Y=np.array([])\n",
    "for i in range(0,len(corr_total)):\n",
    "    X=np.append(X, corr_total.index[i].split(\"-\")[0])\n",
    "    Y=np.append(Y, corr_total.index[i].split(\"-\")[1])\n",
    "corr_total.loc[:,\"X\"]=X\n",
    "corr_total.loc[:,\"Y\"]=Y\n",
    "corr_total.loc[:,\"pvalues\"]=pd.concat([pvalues, pvalues2,pvalues3,pvalues4])"
   ]
  },
  {
   "cell_type": "code",
   "execution_count": null,
   "metadata": {},
   "outputs": [],
   "source": [
    "star=np.array([])\n",
    "for i in range(0,len(corr_total)):\n",
    "    if ((corr_total.loc[:,\"pvalues\"][i]<-1.3) & (abs(corr_total.loc[:,\"R\"][i])>0.3)):\n",
    "        star=np.append(star, 60)\n",
    "    else:\n",
    "        star=np.append(star,0)\n",
    "corr_total.loc[:,\"star\"]=star"
   ]
  },
  {
   "cell_type": "code",
   "execution_count": null,
   "metadata": {},
   "outputs": [],
   "source": [
    "plt.figure(figsize = (3.5,3.5))  #set figure size\n",
    "\n",
    "#fig, (ax) = plt.subplots(1, 1, figsize=(2,3), dpi=100)\n",
    " \n",
    "\n",
    "plt.scatter(corr_total.loc[:,\"X\"], corr_total.loc[:,\"Y\"], c=-corr_total.loc[:,\"pvalues\"],\n",
    "            s=corr_total.loc[:,\"R\"]*200,alpha=1, linewidths=0, cmap=\"YlOrRd\", marker=\"o\") # plot scatters\n",
    "plt.scatter(corr_total.loc[:,\"X\"], corr_total.loc[:,\"Y\"], c=-corr_total.loc[:,\"pvalues\"],\n",
    "            s=-corr_total.loc[:,\"R\"]*200,alpha=1, linewidths=0, cmap=\"GnBu\",marker=\"o\")\n",
    "plt.scatter(corr_total.loc[:,\"X\"], corr_total.loc[:,\"Y\"], c=\"white\",s=corr_total.loc[:,\"star\"],alpha=1, linewidths=0, marker=\"*\")# plot scatters\n",
    "\n",
    "#map1 = ax.imshow(np.stack([corr_total.loc[:,\"pvalues\"],corr_total.loc[:,\"pvalues\"]]),cmap='YlOrRd')\n",
    "#map2 = ax.imshow(np.stack([-corr_total.loc[:,\"pvalues\"],-corr_total.loc[:,\"pvalues\"]]),cmap='GnBu')\n",
    "\n",
    "#plt.colorbar(map1)\n",
    "#plt.colorbar(map2)\n",
    "\n",
    "s4 = plt.scatter([],[], s=40, marker='o', color='#555555')\n",
    "s6 = plt.scatter([],[], s=60, marker='o', color='#555555')\n",
    "s10 = plt.scatter([],[], s=100, marker='o', color='#555555')\n",
    "plt.legend((s4,s6,s10),\n",
    "       ('0.2', '0.3', '0.5'),\n",
    "       scatterpoints=1,\n",
    "       loc='best',\n",
    "       ncol=1,\n",
    "       fontsize=8)\n",
    "#make the file that we will store these plots in \n",
    "try:\n",
    "    directoryName=project_ID+\"_DEG\"\n",
    "    os.mkdir(directoryName)\n",
    "except:\n",
    "    pass\n",
    "\n",
    "plt.savefig(f\"{project_ID}_DEG/pearson_panel_total_mRNA_macrophage.pdf\",dpi=300)\n",
    "plt.show()  # show plots"
   ]
  },
  {
   "cell_type": "code",
   "execution_count": null,
   "metadata": {},
   "outputs": [],
   "source": [
    "#export meta data for R packages\n",
    "meta_sample_clusters=pd.concat([adata.obs.anno_clusters,adata.obs.Sample, adata.obs.treatment,adata.obs.term, adata.obs.strain],axis=1)\n",
    "meta_sample_clusters.to_csv(f\"{project_ID}_DEG/meta_reconcat.csv\")"
   ]
  }
 ],
 "metadata": {
  "kernelspec": {
   "display_name": "Python 3",
   "language": "python",
   "name": "python3"
  },
  "language_info": {
   "codemirror_mode": {
    "name": "ipython",
    "version": 3
   },
   "file_extension": ".py",
   "mimetype": "text/x-python",
   "name": "python",
   "nbconvert_exporter": "python",
   "pygments_lexer": "ipython3",
   "version": "3.8.5"
  }
 },
 "nbformat": 4,
 "nbformat_minor": 4
}
