{
 "cells": [
  {
   "cell_type": "markdown",
   "metadata": {},
   "source": [
    "## MDST robust processing and annotation\n",
    "\n",
    "**Author:Dr.Xi Li**\n",
    "\n",
    "**Created: 01/21/21**\n",
    "\n",
    "**Language: Python**\n",
    "\n",
    "\n"
   ]
  },
  {
   "cell_type": "code",
   "execution_count": null,
   "metadata": {},
   "outputs": [],
   "source": [
    "from matplotlib import rcParams\n",
    "import matplotlib.pyplot as plt\n",
    "import scvelo as scv\n",
    "import loompy\n",
    "import pandas as pd\n",
    "import numpy as np\n",
    "import os\n",
    "import scanpy as sc\n",
    "import scipy.stats as stats\n",
    "from io import StringIO\n",
    "from sklearn import linear_model\n",
    "import seaborn as sns\n",
    " \n",
    "%matplotlib inline"
   ]
  },
  {
   "cell_type": "code",
   "execution_count": null,
   "metadata": {},
   "outputs": [],
   "source": [
    "scv.settings.verbosity = 3  # show errors(0), warnings(1), info(2), hints(3)\n",
    "scv.settings.presenter_view = True  # set max width size for presenter view\n",
    "scv.settings.set_figure_params('scvelo')\n",
    "\n",
    "plt.rcParams['pdf.fonttype'] = 42\n",
    "plt.rcParams['ps.fonttype'] = 42\n",
    "# for beautified visualization"
   ]
  },
  {
   "cell_type": "markdown",
   "metadata": {},
   "source": [
    "## input sample path\n",
    "\n",
    "First lets find the directory that we are working in\n",
    "\n",
    "**Note:  SigsDir must be changed depending on the user to allow for proper use of this script**"
   ]
  },
  {
   "cell_type": "code",
   "execution_count": null,
   "metadata": {},
   "outputs": [],
   "source": [
    "os.getcwd()"
   ]
  },
  {
   "cell_type": "code",
   "execution_count": null,
   "metadata": {},
   "outputs": [],
   "source": [
    "#set directory to where signature gene lists locates\n",
    "SigsDir=\"/mnt/533ee9c3-18c0-4c72-a09e-d9ce5a10ef9e/sig\""
   ]
  },
  {
   "cell_type": "markdown",
   "metadata": {},
   "source": [
    "## Unique Gene Names\n",
    "\n",
    "First we want to select the genes that we wish to look at and format them into a data frame that we can use later on"
   ]
  },
  {
   "cell_type": "code",
   "execution_count": null,
   "metadata": {},
   "outputs": [],
   "source": [
    "#set the directory for outputs\n",
    "project_ID=\"pool_reconcat\"\n",
    "scv.settings.figdir=f'{project_ID}_figures'"
   ]
  },
  {
   "cell_type": "code",
   "execution_count": null,
   "metadata": {},
   "outputs": [],
   "source": [
    "#load data\n",
    "adata=scv.read (f\"{project_ID}.h5ad\")\n",
    "adata.raw=adata"
   ]
  },
  {
   "cell_type": "code",
   "execution_count": null,
   "metadata": {},
   "outputs": [],
   "source": [
    "#set sample_id\n",
    "Sample_idx=pd.Series(\"Unknown\", index=adata.obs_names)\n",
    "m=0\n",
    "for i in np.unique(adata.obs.treatment):   \n",
    "    Sample_idx[adata.obs.treatment==i]=m\n",
    "    m=m+1\n",
    "adata.obs[\"Sample_idx\"]=Sample_idx.values\n",
    "adata.obs[\"Sample_idx\"]=adata.obs[\"Sample_idx\"].astype(float)"
   ]
  },
  {
   "cell_type": "code",
   "execution_count": null,
   "metadata": {},
   "outputs": [],
   "source": [
    "#store a h5ad file for further faster loadinig\n",
    "adata.var_names_make_unique(\"_\")\n",
    "\n",
    "#we need to make a directory to store the files in\n",
    "try:\n",
    "    directoryName=project_ID+\"_figures\"\n",
    "    os.mkdir(directoryName)\n",
    "except:\n",
    "    pass\n",
    "\n",
    "#we need to make a directory to store the files in\n",
    "\n",
    "try:\n",
    "    directoryName=project_ID+\"_DEG\"\n",
    "    os.mkdir(directoryName)\n",
    "except:\n",
    "    pass\n"
   ]
  },
  {
   "cell_type": "markdown",
   "metadata": {},
   "source": [
    "## Preprocess the Data\n",
    "\n",
    "now we will take the files from the previous section where we determined spliced/unspliced RNA counts and use them to create RNA velocity trajectory as well as investigate biological alternation in each cell"
   ]
  },
  {
   "cell_type": "code",
   "execution_count": null,
   "metadata": {},
   "outputs": [],
   "source": [
    "#calculate the percentage of mitochondrial genes and ribosomal genes\n",
    "adata.var['mt'] = adata.var_names.str.startswith('mt-')\n",
    "adata.var['rp'] = adata.var_names.str.startswith('Rp')\n",
    "sc.pp.calculate_qc_metrics(adata, qc_vars=['mt'], percent_top=None, log1p=False, inplace=True)\n",
    "sc.pp.calculate_qc_metrics(adata, qc_vars=['rp'], percent_top=None, log1p=False, inplace=True)\n",
    "#sc.pl.violin(adata, ['n_vars'], groupby='Sample_ID', stripplot=False) "
   ]
  },
  {
   "cell_type": "code",
   "execution_count": null,
   "metadata": {},
   "outputs": [],
   "source": [
    "#plot scatter plots of dataset QC\n",
    "sc.pl.scatter(adata, x='n_genes_by_counts', y='pct_counts_mt')#, color=\"GEX_ID\",)\n",
    "sc.pl.scatter(adata, x='n_genes_by_counts', y='pct_counts_rp', color=\"GEX_ID\",)\n",
    "sc.pl.scatter(adata, x='total_counts', y='n_genes_by_counts',color=\"GEX_ID\")"
   ]
  },
  {
   "cell_type": "code",
   "execution_count": null,
   "metadata": {},
   "outputs": [],
   "source": [
    "#filter out outliers\n",
    "adata = adata[adata.obs.n_genes_by_counts < 8000, :] #we want the cell to contain less than 5000 total gene detected in order to avoid doublets\n",
    "adata = adata[adata.obs.total_counts < 80000, :]\n",
    "adata = adata[adata.obs.n_genes_by_counts > 2000, :] #we want the cell to contain more than 200 total gene detected in order to avoid bad cells\n",
    "adata = adata[adata.obs.total_counts > 6000, :]# we want the cell to contain more than 400 (200*2) total counts (UMI) detected in order to avoid bad cells\n",
    "adata = adata[adata.obs.pct_counts_mt < 10, :]# we want the cell to contain less than 55 percent mitochondrial genes in order to avoid bad cells\n",
    "\n",
    "adata"
   ]
  },
  {
   "cell_type": "markdown",
   "metadata": {},
   "source": [
    "**Doublets section**\n",
    "\n",
    "This section should only be used if the dataframe contains doublets.\n"
   ]
  },
  {
   "cell_type": "code",
   "execution_count": null,
   "metadata": {},
   "outputs": [],
   "source": [
    "#calculate doublets but we don't do this for SUM149 datasets\n",
    "import scrublet as scr\n",
    "scrub = scr.Scrublet(adata.raw.X, expected_doublet_rate=0.06,n_neighbors=0.5*np.sqrt(adata.n_obs))"
   ]
  },
  {
   "cell_type": "code",
   "execution_count": null,
   "metadata": {},
   "outputs": [],
   "source": [
    "adata.obs['doublet_scores'], adata.obs['predicted_doublets'] = scrub.scrub_doublets(min_counts=5, \n",
    "                                                          min_cells=0.1%(len(adata.to_df())), \n",
    "                                                          min_gene_variability_pctl=95, \n",
    "                                                          n_prin_comps=30)\n",
    "scrub.plot_histogram()"
   ]
  },
  {
   "cell_type": "code",
   "execution_count": null,
   "metadata": {},
   "outputs": [],
   "source": [
    "singlet_list = [cells for cells in adata.obs_names if not adata.obs['predicted_doublets'][cells]]\n",
    "adata = adata[singlet_list,:]"
   ]
  },
  {
   "cell_type": "markdown",
   "metadata": {},
   "source": [
    "**Continued data processing**"
   ]
  },
  {
   "cell_type": "code",
   "execution_count": null,
   "metadata": {},
   "outputs": [],
   "source": [
    "scv.pp.filter_and_normalize(adata,min_cells=0.001*(adata.n_obs), n_top_genes=4000,flavor=\"cell_ranger\")\n",
    "scv.tl.score_genes_cell_cycle(adata, s_genes= ['Mcm5', 'Pcna', 'Tyms', 'Fen1', 'Mcm2', 'Mcm4', 'Rrm1', 'Ung', 'Gins2',\n",
    "     'Mcm6', 'Cdca7', 'Dtl', 'Prim1', 'Uhrf1', 'Mlf1ip', 'Hells', 'Rfc2',\n",
    "     'Rpa2', 'Nasp', 'Rad51ap1', 'Gmnn', 'Wdr76', 'Slbp', 'Ccne2', 'Ubr7',\n",
    "     'Pold3', 'Msh2', 'Atad2', 'Rad51', 'Rrm2', 'Cdc45', 'Cdc6', 'Exo1', 'Tipin',\n",
    "     'Dscc1', 'Blm', 'Casp8ap2', 'Usp1', 'Clspn', 'Pola1', 'Chaf1b', 'Brip1', 'E2f8'], g2m_genes = ['Hmgb2', 'Cdk1', 'Nusap1', 'Ube2c', 'Birc5', 'Tpx2', 'Top2a', 'Ndc80',\n",
    "     'Cks2', 'Nuf2', 'Cks1b', 'Mki67', 'Tmpo', 'Cenpf', 'Tacc3', 'Fam64a',\n",
    "     'Smc4', 'Ccnb2', 'Ckap2l', 'Ckap2', 'Aurkb', 'Bub1', 'Kif11', 'Anp32e',\n",
    "     'Tubb4b', 'Gtse1', 'Kif20b', 'Hjurp', 'Cdca3', 'Hn1', 'Cdc20', 'Ttk',\n",
    "     'Cdc25c', 'Kif2c', 'Rangap1', 'Ncapd2', 'Dlgap5', 'Cdca2', 'Cdca8',\n",
    "     'Ect2', 'Kif23', 'Hmmr', 'Aurka', 'Psrc1', 'Anln', 'Lbr', 'Ckap5',\n",
    "     'Cenpe', 'Ctcf', 'Nek2', 'G2e3', 'Gas2l3', 'Cbx5', 'Cenpa']) # calculate cell cycle score with scv internal function and its gene list of s phase and g2m phase, then we will have two observations---\"S_score\" and \"G2M_score\" added in adata \n",
    "sc.pp.regress_out(adata, keys=[\"S_score\",\"G2M_score\",\"total_counts\",\"n_genes_by_counts\"] , n_jobs=None, copy=False) # we remove cell cycle effects\n",
    "scv.pp.moments(adata,n_pcs=10, n_neighbors=50, mode=\"distances\") # we calculate a moment matrix for further RNA velocity analysis"
   ]
  },
  {
   "cell_type": "code",
   "execution_count": null,
   "metadata": {},
   "outputs": [],
   "source": [
    "#calculate umap\n",
    "scv.tl.umap(adata, n_components=2, min_dist=0.7, spread=1, maxiter=None, alpha=1.0,\n",
    "            gamma=1, negative_sample_rate=5, init_pos=\"spectral\", random_state=0, a=None,\n",
    "            b=None, copy=False, method=\"umap\", neighbors_key=None)"
   ]
  },
  {
   "cell_type": "code",
   "execution_count": null,
   "metadata": {},
   "outputs": [],
   "source": [
    "#calculate louvain clusters based on the umap we generated previously\n",
    "sc.tl.leiden(adata, resolution=2,  \n",
    "                 key_added='leiden', use_weights=True)\n",
    "adata.obs[\"clusters\"]=adata.obs[\"leiden\"]"
   ]
  },
  {
   "cell_type": "code",
   "execution_count": null,
   "metadata": {},
   "outputs": [],
   "source": [
    "#check proportions of spliced and unspliced RNA in each cluster\n",
    "scv.pl.proportions(adata)"
   ]
  },
  {
   "cell_type": "code",
   "execution_count": null,
   "metadata": {},
   "outputs": [],
   "source": [
    "import densmap"
   ]
  },
  {
   "cell_type": "code",
   "execution_count": null,
   "metadata": {},
   "outputs": [],
   "source": [
    "#This section can create a densmap if disired \n",
    "embedding, ro, re = densmap.densMAP(n_neighbors=200, n_epochs=500, dens_frac=0.7,\n",
    "                                    min_dist=0.5,spread=1.5,\n",
    "                                    dens_lambda=0.5).fit_transform(adata.to_df(layer=\"Ms\"))\n",
    "    \n",
    "#input densmap information into adata\n",
    "adata.obsm[\"X_densmap\"]=embedding"
   ]
  },
  {
   "cell_type": "code",
   "execution_count": null,
   "metadata": {},
   "outputs": [],
   "source": [
    "#plot umap grouped by treatment\n",
    "plot_pattern=\"anno_clusters\"\n",
    "scv.pl.scatter(adata,# save=f\"{plot_pattern}_umap.pdf\",\n",
    "               basis=\"umap\",\n",
    "           color=plot_pattern,legend_loc=\"right\",\n",
    "            size=30, alpha=0.8,\n",
    "            palette=[ \"slategrey\",\"PeachPuff\",\"gold\",\n",
    "                     \"DeepSkyBlue\",\n",
    "                     \"SpringGreen\",\"olivedrab\",\n",
    "                     \"orchid\",\"lightcoral\",\"firebrick\",\"crimson\",\"Pink\", \"tan\",\n",
    "                   \"MidnightBlue\", \"DarkMagenta\", \"darkviolet\",\"royalblue\", \n",
    "                   \"coral\",\"RosyBrown\",\"Goldenrod\",\"BurlyWood\",\"Peru\",\n",
    "            \"Thistle\",\"lightseagreen\",\"CadetBlue\",\n",
    "            \"lightsteelblue\",\"dimgrey\",\"black\",\"IndianRed\",\"PaleVioletRed\",\"hotpink\",\"greenyellow\",\"forestgreen\",\"PaleTurquoise\",\"Aqua\",] )"
   ]
  },
  {
   "cell_type": "code",
   "execution_count": null,
   "metadata": {},
   "outputs": [],
   "source": [
    "#plot umap grouped by treatment\n",
    "plot_pattern=\"treatment\"\n",
    "scv.pl.scatter(adata,,# save=f\"{plot_pattern}_umap.pdf\",\n",
    "               basis=\"umap\",\n",
    "           color=plot_pattern,legend_loc=\"right\",\n",
    "            size=30, alpha=0.8,\n",
    "            palette=[ \"slategrey\",\"PeachPuff\",\"gold\",\n",
    "                     \"DeepSkyBlue\",\n",
    "                     \"SpringGreen\",\"olivedrab\",\n",
    "                     \"orchid\",\"lightcoral\",\"firebrick\",\"crimson\",\"Pink\", \"tan\",\n",
    "                   \"MidnightBlue\", \"DarkMagenta\", \"darkviolet\",\"royalblue\", \n",
    "                   \"coral\",\"RosyBrown\",\"Goldenrod\",\"BurlyWood\",\"Peru\",\n",
    "            \"Thistle\",\"lightseagreen\",\"CadetBlue\",\n",
    "            \"lightsteelblue\",\"dimgrey\",\"black\",\"IndianRed\",\"PaleVioletRed\",\"hotpink\",\"greenyellow\",\"forestgreen\",\"PaleTurquoise\",\"Aqua\",] )"
   ]
  },
  {
   "cell_type": "code",
   "execution_count": null,
   "metadata": {},
   "outputs": [],
   "source": [
    "#plot umap grouped by treatment\n",
    "plot_pattern=\"phase\"\n",
    "scv.pl.scatter(adata, save=f\"{plot_pattern}_umap.pdf\",\n",
    "               basis=\"umap\",\n",
    "           color=plot_pattern,legend_loc=\"right\",\n",
    "            size=10, alpha=0.8,\n",
    "            palette=[ \"orchid\",\"lightcoral\",\"firebrick\",\"crimson\",\n",
    "                     \"coral\",\"Peru\",\"DarkMagenta\",\"DeepSkyBlue\",\"SpringGreen\",\"lightseagreen\",\"olivedrab\",\n",
    "                     \"Aqua\",\"CadetBlue\",\"royalblue\",\"MidnightBlue\",\n",
    "                    \"lightsteelblue\", \"dimgrey\",\"slategrey\",\"black\",\"RosyBrown\",\"Goldenrod\",\"tan\",\"BurlyWood\",\n",
    "            \"IndianRed\",\"PaleVioletRed\",\"hotpink\",\"greenyellow\",\"forestgreen\",\"PaleTurquoise\",\"PeachPuff\",\"gold\",\n",
    "                      \"Thistle\", \"Pink\", \"darkviolet\",] )"
   ]
  },
  {
   "cell_type": "code",
   "execution_count": null,
   "metadata": {},
   "outputs": [],
   "source": [
    "#plot umap grouped by treatment\n",
    "plot_pattern=\"anno_clusters\"\n",
    "scv.pl.scatter(adata, save=f\"{plot_pattern}_umap.pdf\",\n",
    "               basis=\"umap\",\n",
    "           color=plot_pattern,legend_loc=\"right\",\n",
    "            size=10, alpha=0.8,\n",
    "            palette=[ \"DeepSkyBlue\",\"royalblue\",\"MidnightBlue\",\"gold\",\"Pink\",\"hotpink\",\"darkviolet\",\n",
    "                    \"SpringGreen\",\"olivedrab\",\"forestgreen\",\"maroon\"\n",
    "            ,\"orchid\",\"crimson\",\"PapayaWhip\"\n",
    "            ,\"firebrick\",\"lightcoral\",\"greenyellow\"\n",
    "            ,\"tan\",\"slategrey\",\"coral\",\"lightseagreen\"\n",
    "            ,\"lightsteelblue\",\"lightskyblue\",\"dimgrey\",\n",
    "            \"indigo\",\"darkturquoise\"], )"
   ]
  },
  {
   "cell_type": "code",
   "execution_count": null,
   "metadata": {},
   "outputs": [],
   "source": [
    "#sc.tl.dendrogram(adata,groupby=\"anno_clusters10\")\n",
    "markers ={\n",
    "    \"T.cells\":[\"Ptprc\",\"Cd2\",\"Cd3e\",\"Cd3d\",\"Cd4\",\"Tcf7\",\"Foxp3\",\"Ctla4\",\"Cd8a\",\"Cd8b1\",\"Ccr7\",\"Pdcd1\",\"Trdc\",\"Tcrg-C1\",\"Mki67\",\"Ncr1\",\"Nkg7\",\"Prf1\",\"Gzma\",\"Gzmb\",\"Ifng\"],\n",
    "    \"B.cells\":[\"Cd79a\",\"Cd19\",\"Ms4a1\",\"Ighd\"],\n",
    "    \"Dendritic.cells\":[\"Siglech\",\"Bst2\",\"Cd300c\"],\n",
    "    \"Myeloid.cells\":[\"Itgam\",\"Cd14\",\"Adgre1\",\"Fcgr3\",\"Cd68\",\"Itgax\",\"Csf1r\",\"Fcgr2b\",\"Cx3cr1\", \"Cd74\",\"Cxcl16\",\"Cd86\",\n",
    "                     \"Cd44\",\"Mcl1\",\"Mrc1\",\"Siglec1\",\"Arg1\",\"Ccl8\",\"C5ar1\"],\n",
    "     \"Epithelial.cells\":[\"Epcam\",\"Cdh1\",\"Krt8\",\"Krt18\"],   \n",
    "    \"Fibroblasts\":[\"Col1a1\",\"Col3a1\",\"Dcn\",\"Pdpn\"],\n",
    "    \"Endothelial.cells\":[\"Epas1\",\"Sparcl1\"],\n",
    "   \n",
    "    }\n",
    "\n",
    "sc.pl.dotplot(adata, markers,standard_scale=\"var\",cmap=\"Reds\"\n",
    "              ,figsize=(13.5,5.5),\n",
    "                     mean_only_expressed=False, expression_cutoff=0,\n",
    "                     groupby='anno_clusters', dendrogram=False,save=f\"{project_ID}_markers_T.pdf\")"
   ]
  },
  {
   "cell_type": "code",
   "execution_count": null,
   "metadata": {},
   "outputs": [],
   "source": [
    "#plot umap grouped by treatment\n",
    "plot_pattern=\"anno_clusters\"\n",
    "scv.pl.scatter(adata, save=f\"{plot_pattern}_umap.pdf\",\n",
    "               basis=\"umap\",\n",
    "           color=plot_pattern,legend_loc=\"right\",\n",
    "            size=20, alpha=0.8,\n",
    "            palette=[ \"coral\",\n",
    "                     \"DeepSkyBlue\",\"slategrey\",\"PeachPuff\",\"gold\",\"crimson\",\n",
    "                     \"SpringGreen\",\"olivedrab\",\"orchid\",\n",
    "                     \"lightcoral\",\"firebrick\",\"Pink\", \"tan\",\n",
    "                   \"MidnightBlue\", \"DarkMagenta\", \"darkviolet\",\"royalblue\", \n",
    "                   \"RosyBrown\",\"Goldenrod\",\"BurlyWood\",\"Peru\",\n",
    "            \"Thistle\",\"lightseagreen\",\"CadetBlue\",\n",
    "            \"lightsteelblue\",\"dimgrey\",\"black\",\"IndianRed\",\"PaleVioletRed\",\"hotpink\",\"greenyellow\",\"forestgreen\",\"PaleTurquoise\",\"Aqua\",] )"
   ]
  },
  {
   "cell_type": "code",
   "execution_count": null,
   "metadata": {},
   "outputs": [],
   "source": [
    "#plot umap grouped by treatment\n",
    "plot_pattern=\"RSR_clusters\"\n",
    "scv.pl.scatter(adata, save=f\"{plot_pattern}_umap.pdf\",\n",
    "               basis=\"umap\",\n",
    "           color=plot_pattern,legend_loc=\"right\",\n",
    "            size=20, alpha=0.8,\n",
    "            palette=[ \"coral\",\n",
    "                     \"DeepSkyBlue\",\"slategrey\",\"PeachPuff\",\"gold\",\"crimson\",\n",
    "                     \"SpringGreen\",\"olivedrab\",\"orchid\",\n",
    "                     \"lightcoral\",\"firebrick\",\"Pink\", \"tan\",\n",
    "                   \"MidnightBlue\", \"DarkMagenta\", \"darkviolet\",\"royalblue\", \n",
    "                   \"RosyBrown\",\"Goldenrod\",\"BurlyWood\",\"Peru\",\n",
    "            \"Thistle\",\"lightseagreen\",\"CadetBlue\",\n",
    "            \"lightsteelblue\",\"dimgrey\",\"black\",\"IndianRed\",\"PaleVioletRed\",\"hotpink\",\"greenyellow\",\"forestgreen\",\"PaleTurquoise\",\"Aqua\",] )"
   ]
  },
  {
   "cell_type": "code",
   "execution_count": null,
   "metadata": {},
   "outputs": [],
   "source": []
  },
  {
   "cell_type": "markdown",
   "metadata": {},
   "source": [
    "# calculate signature scores"
   ]
  },
  {
   "cell_type": "code",
   "execution_count": null,
   "metadata": {},
   "outputs": [],
   "source": [
    "# read in an example gene list\n",
    "gene_list_name=\"Reactome_IFNG_mm\"# put the gene list file name here, the gene list file should be a csv file\n",
    "gene_list = pd.read_csv(f\"{SigsDir}/{gene_list_name}.csv\",header=None, sep=\",\", usecols=[0],)\n",
    "# convert dataframe or series to list\n",
    "gene_list_ = gene_list.squeeze().str.strip().tolist()\n",
    "#gene_list_ = [x.capitalize() for x in gene_list_]\n",
    "#calculate a signature expression score by sc internal function. scv cannot calculate a gene list with coefficient\n",
    "sc.tl.score_genes(adata, score_name=f\"{gene_list_name}_score\", gene_list=gene_list_, ctrl_size=50, use_raw=False)"
   ]
  },
  {
   "cell_type": "code",
   "execution_count": null,
   "metadata": {},
   "outputs": [],
   "source": [
    "# read in an example gene list\n",
    "gene_list_random=\"random_500_Mm\"# put the gene list file name here, the gene list file should be a csv file\n",
    "random_list = pd.read_csv(f\"{SigsDir}/{gene_list_random}.csv\",header=None, sep=\",\", usecols=[0],)\n",
    "# convert dataframe or series to list\n",
    "random_list_ = random_list.squeeze().str.strip().tolist()\n",
    "random_list_ = [x.capitalize() for x in random_list_]\n",
    "random_list_=[genes for genes in random_list_ if genes in adata.to_df(layer=\"spliced\").columns]"
   ]
  },
  {
   "cell_type": "code",
   "execution_count": null,
   "metadata": {},
   "outputs": [],
   "source": [
    "# we can also make a gene list here manuallly and then calculate a signature s\n",
    "chemotaxis=[\"CXCL12\",\"CX3CL1\",\"CCL19\", \"CCL21\", \"CXCL10\",\" CXCL11\", \" CXCL12\",\"CCL2\", \"CCL3\",\" CCL4\", \"CCL5\", \"CCL10\",\"IL1A\",\"IL1B\",\"IL2\",\"IL12A\",\"IL12A\",\"IL12B\",\"IL12B\",]\n",
    "chemotaxis= [ x.capitalize() for x in chemotaxis]\n",
    "sc.tl.score_genes(adata, score_name=\"chemotaxis score\", gene_list=chemotaxis, ctrl_size=10, use_raw=False)"
   ]
  },
  {
   "cell_type": "code",
   "execution_count": null,
   "metadata": {},
   "outputs": [],
   "source": [
    "# we can also make a gene list here manuallly and then calculate a signature s\n",
    "glist= Antigen_presentation+Cytotoxic_effector_functions+Immune_response+Metabolism\n",
    "sc.tl.score_genes(adata, score_name=\"immune infiltration score\", gene_list=glist, ctrl_size=50 ,use_raw=True)"
   ]
  },
  {
   "cell_type": "code",
   "execution_count": null,
   "metadata": {},
   "outputs": [],
   "source": [
    "# we can also make a gene list here manuallly and then calculate a signature s\n",
    "anti_tumor_cytokine=[\"Il1b\",\"Il2\",\"Il12b\",\"1l1a\",\"Tnf\",\"Cxcl9\",\"Cxcl10\",\"Ifng\",]\n",
    "sc.tl.score_genes(adata_t, score_name=\"antitumor_cytokine_score\", gene_list=anti_tumor_cytokine, ctrl_size=10, use_raw=False)"
   ]
  },
  {
   "cell_type": "code",
   "execution_count": null,
   "metadata": {},
   "outputs": [],
   "source": [
    "# we can also make a gene list here manuallly and then calculate a signature s\n",
    "pro_tumor_cytokine=[\"Il10\",\"Tgfb1\",\"Ccl17\",\"Ccl3\",\"Ccl22\",\"Ccl24\",\"Ccl2\",\"Vegfa\",\"Il4\",\"Cxcl15\",\"Cxcl1\",\"Cxcl2\",\"Cxcl3\",]\n",
    "sc.tl.score_genes(adata_t, score_name=\"protumor_cytokine_score\", gene_list=pro_tumor_cytokine, ctrl_size=20, use_raw=False)"
   ]
  },
  {
   "cell_type": "code",
   "execution_count": null,
   "metadata": {},
   "outputs": [],
   "source": [
    "gene_list_name=\"Reactome_IFNG_mm\"\n",
    "gene_list_coe_=pd.read_csv(f\"{SigsDir}/{gene_list_name}.csv\",header=1, sep=\",\",usecols=[0,1],index_col=0)\n",
    "gene_list_coe_=[genes.capitalize() for genes in gene_list_coe.index if genes.capitalize() in adata.to_df(layer=\"spliced\").columns]"
   ]
  },
  {
   "cell_type": "code",
   "execution_count": null,
   "metadata": {},
   "outputs": [],
   "source": [
    "X_score=0\n",
    "for genes in gene_list_coe_:\n",
    "    X_score=X_score+adata.to_df(layer=\"spliced\").loc[:,genes]/len(gene_list_coe_)\n",
    "for genes in random_list_:\n",
    "    X_score=X_score-adata.to_df(layer=\"spliced\").loc[:,genes]/len(random_list_)\n",
    "adata.obs[f\"Reactome_IFNG_mm_score\"]=X_score"
   ]
  },
  {
   "cell_type": "code",
   "execution_count": null,
   "metadata": {},
   "outputs": [],
   "source": [
    "X_score=0\n",
    "for genes in gene_list_coe_:\n",
    "    X_score=X_score+gene_list_coe.loc[genes.upper()].values[0]*adata.to_df(layer=\"spliced\").loc[:,genes]\n",
    "for genes in random_list_:\n",
    "    X_score=X_score-adata.to_df(layer=\"spliced\").loc[:,genes]\n",
    "adata.obs[\"RSR_score\"]=X_score"
   ]
  },
  {
   "cell_type": "code",
   "execution_count": null,
   "metadata": {},
   "outputs": [],
   "source": [
    "adata.obs[\"immune_infiltration_score\"]=adata.obs[\"immune infiltration score\"].astype(float)-adata.obs[\"TGFb score\"].astype(float)"
   ]
  },
  {
   "cell_type": "markdown",
   "metadata": {},
   "source": [
    "## Cell fraction bar charts"
   ]
  },
  {
   "cell_type": "code",
   "execution_count": null,
   "metadata": {},
   "outputs": [],
   "source": [
    "# we can plot feature percentage in the population we group cells, treatment or clusters\n",
    "# first we need to call a cell_fraction matrix containing matched feature and group_by information of each single cell\n",
    "feature=\"anno_clusters\"\n",
    "group_by=\"treatment\"#treatment Group\n",
    "cell_fraction=pd.DataFrame(adata.obs[group_by].values,columns=[group_by],index=adata.obs[feature])"
   ]
  },
  {
   "cell_type": "code",
   "execution_count": null,
   "metadata": {},
   "outputs": [],
   "source": [
    "fraction=pd.DataFrame([])\n",
    "for i in np.unique(adata.obs[group_by]):\n",
    "    adata_=adata[adata.obs[group_by]==i]\n",
    "    fraction_=np.array([])\n",
    "    for x in np.unique(adata.obs[feature]):\n",
    "        frac=len(adata_[adata_.obs[feature]==x])\n",
    "        fraction_=pd.Series(np.append(fraction_, frac))\n",
    "    fraction=pd.concat([fraction, fraction_], axis=1)\n",
    "fraction.columns=np.unique(adata.obs[group_by])\n",
    "fraction.index=np.unique(adata.obs[feature])"
   ]
  },
  {
   "cell_type": "code",
   "execution_count": null,
   "metadata": {},
   "outputs": [],
   "source": [
    "# we calculate the percentage of each feature in each group\n",
    "fraction.loc[\"sum\"]=fraction.sum(axis=0)\n",
    "for i in np.unique(adata.obs[feature]):\n",
    "    fraction.loc[f\"{i}_pct\"]=fraction.loc[i]/fraction.loc[\"sum\"]\n",
    "fraction.to_csv(f\"{project_ID}_figures/{feature}_fraction_{group_by}.csv\")"
   ]
  },
  {
   "cell_type": "code",
   "execution_count": null,
   "metadata": {},
   "outputs": [],
   "source": [
    "# we drop the cell number rows and leave the percentage rows\n",
    "fraction_=fraction.T\n",
    "for i in np.unique(adata.obs[feature]):\n",
    "    fraction_=fraction_.drop([i],axis=1)\n",
    "fraction_=fraction_.drop([\"sum\"],axis=1)\n",
    "fraction_"
   ]
  },
  {
   "cell_type": "code",
   "execution_count": null,
   "metadata": {},
   "outputs": [],
   "source": [
    "df_=fraction_\n",
    "#plot the cell percentage bar chart\n",
    "labels =np.unique(adata.obs[group_by])\n",
    "\n",
    "width = 0.98    # the width of the bars: can also be len(x) sequence\n",
    "\n",
    "fig, ax = plt.subplots()\n",
    "x = np.arange(0, len(labels))\n",
    "bottom=0\n",
    "for i in range (0, len(df_.columns)): \n",
    "    ax.bar(x,  df_.iloc[:,i], width, yerr=None, label=df_.columns[i][:1], bottom=bottom, color=scv.utils.interpret_colorkey(adata[adata.obs[feature]==df_.iloc[:,i].name[:-4]],c=f\"{feature}\"))\n",
    "    bottom=bottom+df_.iloc[:,i].values\n",
    "    \n",
    "\n",
    "plt.xticks(x, labels,rotation=90)\n",
    "ax.set_ylabel('cell fraction')\n",
    "ax.set_title('cell fraction')\n",
    "legend=ax.legend(df_.columns,bbox_to_anchor=(1.05, 1,3,1), loc='upper left', prop={'size':10},borderpad=2)\n",
    "\n",
    "fig.show()\n",
    "fig.savefig(f\"{project_ID}_figures/{feature}_fraction_{group_by}.pdf\",bbox_extra_artists=(legend,),bbox_inches=\"tight\",dpi=300)"
   ]
  },
  {
   "cell_type": "markdown",
   "metadata": {},
   "source": [
    "## Export meta"
   ]
  },
  {
   "cell_type": "code",
   "execution_count": null,
   "metadata": {},
   "outputs": [],
   "source": [
    "#export the full matrix of spliced RNA\n",
    "adata_=adata[((adata.obs_names.str.startswith(\"coGEX8\")))]\n",
    "#export meta data for R packages\n",
    "meta_sample_clusters=pd.DataFrame(adata_.obs.anno_clusters)\n",
    "\n",
    "meta_sample_clusters.to_csv(f\"{project_ID}_DEG/meta_co_gex8.csv\")"
   ]
  },
  {
   "cell_type": "code",
   "execution_count": null,
   "metadata": {},
   "outputs": [],
   "source": [
    "#export the full matrix of spliced RNA\n",
    "adata_=adata[((adata.obs_names.str.startswith(\"T1\"))&(adata.obs.treatment.str.startswith(\"T127_\")))]\n",
    "raw_=pd.DataFrame(data=adata_.raw.X.toarray(), index=adata_.obs_names, columns=adata_.raw.var_names)\n",
    "matrix=raw_\n",
    "#matrix.index=map(lambda x:x.upper(),matrix.index)\n",
    "matrix.to_csv(f\"./{project_ID}_DEG/matrix_T127_gex1_raw.csv\",header=True)"
   ]
  },
  {
   "cell_type": "code",
   "execution_count": null,
   "metadata": {},
   "outputs": [],
   "source": [
    "adata_=adata[adata.obs_names.str.startswith(\"coGEX6\")]"
   ]
  },
  {
   "cell_type": "code",
   "execution_count": null,
   "metadata": {},
   "outputs": [],
   "source": [
    "#export the full matrix of spliced RNA\n",
    "matrix=adata_.copy().T.to_df()\n",
    "#matrix.index=map(lambda x:x.upper(),matrix.index)\n",
    "matrix.to_csv(f\"./{project_ID}_DEG/coGEX6_matrix_raw.csv\",header=True)"
   ]
  },
  {
   "cell_type": "markdown",
   "metadata": {},
   "source": [
    "## Save h5ad"
   ]
  },
  {
   "cell_type": "code",
   "execution_count": null,
   "metadata": {},
   "outputs": [],
   "source": [
    "sub_pop_name=\"Macro\"\n",
    "sub_pop=[adata.obs.anno_clusters[0].startswith(f\"{sub_pop_name}\")].obs_names"
   ]
  },
  {
   "cell_type": "code",
   "execution_count": null,
   "metadata": {},
   "outputs": [],
   "source": [
    "#plot umap grouped by treatment\n",
    "scv.pl.scatter(adata[sub_pop],save=f\"{sub_pop_name}_cells_umap.pdf\", \n",
    "               basis=\"umap\",legend_loc=\"right\",color=\"anno_clusters\",\n",
    "            size=10, alpha=0.8,\n",
    "            )"
   ]
  },
  {
   "cell_type": "code",
   "execution_count": null,
   "metadata": {},
   "outputs": [],
   "source": [
    "adata=sc.read(f\"pool_reconcat.h5ad\", gex_only=True)\n",
    "adata.var_names_make_unique(\"_\")\n",
    "#adata_raw=adata_raw[adata.obs_names,:]\n",
    "#adata_raw.obs[\"anno_clusters\"]=adata.obs.anno_clusters"
   ]
  },
  {
   "cell_type": "code",
   "execution_count": null,
   "metadata": {},
   "outputs": [],
   "source": [
    "adata.obs[\"Sample_ID\"]=adata.obs.treatment"
   ]
  },
  {
   "cell_type": "markdown",
   "metadata": {},
   "source": [
    "## correlation heatmap"
   ]
  },
  {
   "cell_type": "code",
   "execution_count": null,
   "metadata": {},
   "outputs": [],
   "source": [
    "raw=pd.DataFrame(data.adata.raw.X.toarray(),index=adata.obs_names, columns=adata.raw.var_names)"
   ]
  },
  {
   "cell_type": "code",
   "execution_count": null,
   "metadata": {},
   "outputs": [],
   "source": [
    "score_list=[\"latent_time\",\"Regulon(Nfkb1(+))\",\"Regulon(Mef2c(+))\",\"Regulon(Irf8(+))\",\"Regulon(Mef2a(+))\",\"Regulon(Bcl11a(+))\",\n",
    "                      \"Regulon(Bhlhe40(+))\",\"Regulon(E2f7(+))\",\"Regulon(Ezh2(+))\",\n",
    "                      \"Regulon(Klf2(+))\",\"Regulon(Maf(+))\",\"Regulon(Spic(+))\",\"Regulon(Tcf4(+))\",\"protumor_cytokine_score\",\n",
    "            \"reactome_phagocytosis_score\",\"KEGG_phagocytosis_score\",\"MM_GO_antigen_presentation_score\",\"antitumor_cytokine_score\",]\n",
    "gene_list=[\"Cd209a\",\"Csf1r\",\"Il12b\",\"Cd86\",\"Itgax\",\"Cd74\",\"Cd44\",\"Mrc1\",\"Arg1\",\"Msr1\",\"Il10\",\"Siglec1\",\"Ccl8\",\"C5ar1\",]"
   ]
  },
  {
   "cell_type": "code",
   "execution_count": null,
   "metadata": {},
   "outputs": [],
   "source": [
    "group=\"Sample\""
   ]
  },
  {
   "cell_type": "code",
   "execution_count": null,
   "metadata": {},
   "outputs": [],
   "source": [
    "import math"
   ]
  },
  {
   "cell_type": "code",
   "execution_count": null,
   "metadata": {},
   "outputs": [],
   "source": [
    "corr_list=np.array([])\n",
    "for i in score_list:\n",
    "    for k in score_list:\n",
    "        x_label=i\n",
    "        score_x = pd.DataFrame(adata_s.obs[x_label].values,columns=[\"score\"],index=adata_s.obs[group])\n",
    "        score_x = score_x.groupby(level=0).mean()\n",
    "        \n",
    "        y_label=k\n",
    "        score_y = pd.DataFrame(adata_s.obs[y_label].values,columns=[\"score\"],index=adata_s.obs[group])\n",
    "        score_y = score_y.groupby(level=0).mean()\n",
    "        \n",
    "        x=score_x[\"score\"].values\n",
    "        y=score_y[\"score\"]\n",
    "        r,p = stats.pearsonr(x, y) \n",
    "        \n",
    "        corr_list=np.append(corr_list,r)\n",
    "index=np.array([])\n",
    "for i in score_list:\n",
    "    for k in score_list:\n",
    "        index=np.append(index, i+\"-\"+k)\n",
    "corr=pd.Series(corr_list, index=index)"
   ]
  },
  {
   "cell_type": "code",
   "execution_count": null,
   "metadata": {},
   "outputs": [],
   "source": [
    "corr_list=np.array([])\n",
    "for i in score_list:\n",
    "    for k in gene_list:\n",
    "        x_label=i\n",
    "        score_x = pd.DataFrame(adata_s.obs[x_label].values,columns=[\"score\"],index=adata_s.obs[group])\n",
    "        score_x = score_x.groupby(level=0).mean()\n",
    "        \n",
    "        y_label=k\n",
    "        gene_y = raw.loc[:,[y_label]]\n",
    "        gene_y.index=adata_s.obs[group]\n",
    "        gene_y =gene_y.groupby(level=0).mean()\n",
    "        \n",
    "        x=score_x[\"score\"].values\n",
    "        y=gene_y.loc[:,y_label].values\n",
    "        r,p = stats.pearsonr(x, y) \n",
    "        \n",
    "        corr_list=np.append(corr_list,r)\n",
    "index=np.array([])\n",
    "for i in score_list:\n",
    "    for k in gene_list:\n",
    "        index=np.append(index, i+\"-\"+k)\n",
    "corr2=pd.Series(corr_list, index=index)"
   ]
  },
  {
   "cell_type": "code",
   "execution_count": null,
   "metadata": {},
   "outputs": [],
   "source": [
    "corr_list=np.array([])\n",
    "for i in gene_list:\n",
    "    for k in gene_list:\n",
    "        x_label=i\n",
    "        gene_x = raw.loc[:,[x_label]]\n",
    "        gene_x.index=adata_s.obs[group]\n",
    "        gene_x =gene_x.groupby(level=0).mean()\n",
    "        \n",
    "        y_label=k\n",
    "        gene_y = raw.loc[:,[y_label]]\n",
    "        gene_y.index=adata_s.obs[group]\n",
    "        gene_y =gene_y.groupby(level=0).mean()\n",
    "        \n",
    "        x=gene_x.loc[:,x_label].values\n",
    "        y=gene_y.loc[:,y_label].values\n",
    "        r,p = stats.pearsonr(x, y) \n",
    "        \n",
    "        corr_list=np.append(corr_list,r)\n",
    "index=np.array([])\n",
    "for i in gene_list:\n",
    "    for k in gene_list:\n",
    "        index=np.append(index, i+\"-\"+k)\n",
    "corr3=pd.Series(corr_list, index=index)"
   ]
  },
  {
   "cell_type": "code",
   "execution_count": null,
   "metadata": {},
   "outputs": [],
   "source": [
    "corr_list=np.array([])\n",
    "for i in gene_list:\n",
    "    for k in score_list:\n",
    "        x_label=i\n",
    "        gene_x = raw.loc[:,[x_label]]\n",
    "        gene_x.index=adata_s.obs[group]\n",
    "        gene_x =gene_x.groupby(level=0).mean()\n",
    "        \n",
    "        y_label=k\n",
    "        score_y = pd.DataFrame(adata_s.obs[y_label].values,columns=[\"score\"],index=adata_s.obs[group])\n",
    "        score_y = score_y.groupby(level=0).mean()\n",
    "        \n",
    "        x=gene_x.loc[:,x_label].values\n",
    "        y=score_y[\"score\"]\n",
    "        r,p = stats.pearsonr(x, y) \n",
    "        \n",
    "        corr_list=np.append(corr_list,r)\n",
    "index=np.array([])\n",
    "for i in gene_list:\n",
    "    for k in score_list:\n",
    "        index=np.append(index, i+\"-\"+k)\n",
    "corr4=pd.Series(corr_list, index=index)"
   ]
  },
  {
   "cell_type": "code",
   "execution_count": null,
   "metadata": {},
   "outputs": [],
   "source": [
    "corr_list=np.array([])\n",
    "for i in score_list:\n",
    "    for k in score_list:\n",
    "        x_label=i\n",
    "        score_x = pd.DataFrame(adata_s.obs[x_label].values,columns=[\"score\"],index=adata_s.obs[group])\n",
    "        score_x = score_x.groupby(level=0).mean()\n",
    "        \n",
    "        y_label=k\n",
    "        score_y = pd.DataFrame(adata_s.obs[y_label].values,columns=[\"score\"],index=adata_s.obs[group])\n",
    "        score_y = score_y.groupby(level=0).mean()\n",
    "        \n",
    "        x=score_x[\"score\"].values\n",
    "        y=score_y[\"score\"]\n",
    "        r,p = stats.pearsonr(x, y) \n",
    "        \n",
    "        corr_list=np.append(corr_list,math.log10(p+math.exp(-7)))\n",
    "index=np.array([])\n",
    "for i in score_list:\n",
    "    for k in score_list:\n",
    "        index=np.append(index, i+\"-\"+k)\n",
    "pvalues=pd.Series(corr_list, index=index)"
   ]
  },
  {
   "cell_type": "code",
   "execution_count": null,
   "metadata": {},
   "outputs": [],
   "source": [
    "corr_list=np.array([])\n",
    "for i in score_list:\n",
    "    for k in gene_list:\n",
    "        x_label=i\n",
    "        score_x = pd.DataFrame(adata_s.obs[x_label].values,columns=[\"score\"],index=adata_s.obs[group])\n",
    "        score_x = score_x.groupby(level=0).mean()\n",
    "        \n",
    "        y_label=k\n",
    "        gene_y = raw.loc[:,[y_label]]\n",
    "        gene_y.index=adata_s.obs[group]\n",
    "        gene_y =gene_y.groupby(level=0).mean()\n",
    "        \n",
    "        x=score_x[\"score\"].values\n",
    "        y=gene_y.loc[:,y_label].values\n",
    "        r,p = stats.pearsonr(x, y) \n",
    "        \n",
    "        corr_list=np.append(corr_list,math.log10(p+math.exp(-7)))\n",
    "index=np.array([])\n",
    "for i in score_list:\n",
    "    for k in gene_list:\n",
    "        index=np.append(index, i+\"-\"+k)\n",
    "pvalues2=pd.Series(corr_list, index=index)"
   ]
  },
  {
   "cell_type": "code",
   "execution_count": null,
   "metadata": {},
   "outputs": [],
   "source": [
    "corr_list=np.array([])\n",
    "for i in gene_list:\n",
    "    for k in gene_list:\n",
    "        x_label=i\n",
    "        gene_x = raw.loc[:,[x_label]]\n",
    "        gene_x.index=adata_s.obs[group]\n",
    "        gene_x =gene_x.groupby(level=0).mean()\n",
    "        \n",
    "        y_label=k\n",
    "        gene_y = raw.loc[:,[y_label]]\n",
    "        gene_y.index=adata_s.obs[group]\n",
    "        gene_y =gene_y.groupby(level=0).mean()\n",
    "        \n",
    "        x=gene_x.loc[:,x_label].values\n",
    "        y=gene_y.loc[:,y_label].values\n",
    "        r,p = stats.pearsonr(x, y) \n",
    "        \n",
    "        corr_list=np.append(corr_list,math.log10(p+math.exp(-7)))\n",
    "index=np.array([])\n",
    "for i in gene_list:\n",
    "    for k in gene_list:\n",
    "        index=np.append(index, i+\"-\"+k)\n",
    "pvalues3=pd.Series(corr_list, index=index)"
   ]
  },
  {
   "cell_type": "code",
   "execution_count": null,
   "metadata": {},
   "outputs": [],
   "source": [
    "corr_list=np.array([])\n",
    "for i in gene_list:\n",
    "    for k in score_list:\n",
    "        x_label=i\n",
    "        gene_x = raw.loc[:,[x_label]]\n",
    "        gene_x.index=adata_s.obs[group]\n",
    "        gene_x =gene_x.groupby(level=0).mean()\n",
    "        \n",
    "        y_label=k\n",
    "        score_y = pd.DataFrame(adata_s.obs[y_label].values,columns=[\"score\"],index=adata_s.obs[group])\n",
    "        score_y = score_y.groupby(level=0).mean()\n",
    "        \n",
    "        x=gene_x.loc[:,x_label].values\n",
    "        y=score_y[\"score\"]\n",
    "        r,p = stats.pearsonr(x, y) \n",
    "        \n",
    "        corr_list=np.append(corr_list,math.log10(p+math.exp(-7)))\n",
    "index=np.array([])\n",
    "for i in gene_list:\n",
    "    for k in score_list:\n",
    "        index=np.append(index, i+\"-\"+k)\n",
    "pvalues4=pd.Series(corr_list, index=index)"
   ]
  },
  {
   "cell_type": "code",
   "execution_count": null,
   "metadata": {},
   "outputs": [],
   "source": [
    "corr_total=pd.concat([corr, corr2,corr3,corr4])\n",
    "corr_total=pd.DataFrame(corr_total, columns=[\"R\"])\n",
    "X=np.array([])\n",
    "Y=np.array([])\n",
    "for i in range(0,len(corr_total)):\n",
    "    X=np.append(X, corr_total.index[i].split(\"-\")[0])\n",
    "    Y=np.append(Y, corr_total.index[i].split(\"-\")[1])\n",
    "corr_total.loc[:,\"X\"]=X\n",
    "corr_total.loc[:,\"Y\"]=Y\n",
    "corr_total.loc[:,\"pvalues\"]=pd.concat([pvalues, pvalues2,pvalues3,pvalues4])"
   ]
  },
  {
   "cell_type": "code",
   "execution_count": null,
   "metadata": {},
   "outputs": [],
   "source": [
    "star=np.array([])\n",
    "for i in range(0,len(corr_total)):\n",
    "    if ((corr_total.loc[:,\"pvalues\"][i]<-1.3) & (abs(corr_total.loc[:,\"R\"][i])>0.3)):\n",
    "        star=np.append(star, 60)\n",
    "    else:\n",
    "        star=np.append(star,0)\n",
    "corr_total.loc[:,\"star\"]=star"
   ]
  },
  {
   "cell_type": "code",
   "execution_count": null,
   "metadata": {},
   "outputs": [],
   "source": [
    "plt.figure(figsize = (3.5,3.5))  #set figure size\n",
    "\n",
    "#fig, (ax) = plt.subplots(1, 1, figsize=(2,3), dpi=100)\n",
    " \n",
    "\n",
    "plt.scatter(corr_total.loc[:,\"X\"], corr_total.loc[:,\"Y\"], c=-corr_total.loc[:,\"pvalues\"],\n",
    "            s=corr_total.loc[:,\"R\"]*200,alpha=1, linewidths=0, cmap=\"YlOrRd\", marker=\"o\") # plot scatters\n",
    "plt.scatter(corr_total.loc[:,\"X\"], corr_total.loc[:,\"Y\"], c=-corr_total.loc[:,\"pvalues\"],\n",
    "            s=-corr_total.loc[:,\"R\"]*200,alpha=1, linewidths=0, cmap=\"GnBu\",marker=\"o\")\n",
    "plt.scatter(corr_total.loc[:,\"X\"], corr_total.loc[:,\"Y\"], c=\"white\",s=corr_total.loc[:,\"star\"],alpha=1, linewidths=0, marker=\"*\")# plot scatters\n",
    "\n",
    "#map1 = ax.imshow(np.stack([corr_total.loc[:,\"pvalues\"],corr_total.loc[:,\"pvalues\"]]),cmap='YlOrRd')\n",
    "#map2 = ax.imshow(np.stack([-corr_total.loc[:,\"pvalues\"],-corr_total.loc[:,\"pvalues\"]]),cmap='GnBu')\n",
    "\n",
    "#plt.colorbar(map1)\n",
    "#plt.colorbar(map2)\n",
    "\n",
    "s4 = plt.scatter([],[], s=40, marker='o', color='#555555')\n",
    "s6 = plt.scatter([],[], s=60, marker='o', color='#555555')\n",
    "s10 = plt.scatter([],[], s=100, marker='o', color='#555555')\n",
    "plt.legend((s4,s6,s10),\n",
    "       ('0.2', '0.3', '0.5'),\n",
    "       scatterpoints=1,\n",
    "       loc='best',\n",
    "       ncol=1,\n",
    "       fontsize=8)\n",
    "#make the file that we will store these plots in \n",
    "try:\n",
    "    directoryName=project_ID+\"_DEG\"\n",
    "    os.mkdir(directoryName)\n",
    "except:\n",
    "    pass\n",
    "\n",
    "plt.savefig(f\"{project_ID}_DEG/pearson_panel_total_mRNA_macrophage.pdf\",dpi=300)\n",
    "plt.show()  # show plots"
   ]
  },
  {
   "cell_type": "code",
   "execution_count": null,
   "metadata": {},
   "outputs": [],
   "source": [
    "#export meta data for R packages\n",
    "meta_sample_clusters=pd.concat([adata.obs.anno_clusters,adata.obs.Sample, adata.obs.treatment,adata.obs.term, adata.obs.strain],axis=1)\n",
    "meta_sample_clusters.to_csv(f\"{project_ID}_DEG/meta_reconcat.csv\")"
   ]
  },
  {
   "cell_type": "code",
   "execution_count": null,
   "metadata": {},
   "outputs": [],
   "source": []
  },
  {
   "cell_type": "code",
   "execution_count": null,
   "metadata": {},
   "outputs": [],
   "source": []
  }
 ],
 "metadata": {
  "kernelspec": {
   "display_name": "Python 3",
   "language": "python",
   "name": "python3"
  },
  "language_info": {
   "codemirror_mode": {
    "name": "ipython",
    "version": 3
   },
   "file_extension": ".py",
   "mimetype": "text/x-python",
   "name": "python",
   "nbconvert_exporter": "python",
   "pygments_lexer": "ipython3",
   "version": "3.8.5"
  }
 },
 "nbformat": 4,
 "nbformat_minor": 4
}
