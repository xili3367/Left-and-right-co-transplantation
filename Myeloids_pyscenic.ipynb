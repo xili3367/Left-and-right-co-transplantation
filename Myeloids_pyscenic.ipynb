{
 "cells": [
  {
   "cell_type": "markdown",
   "metadata": {},
   "source": [
    "## regulon enrichment for myloid cells\n",
    "\n",
    "**Author:Dr.Xi Li**\n",
    "\n",
    "**Created: 01/06/2022**\n",
    "\n",
    "**Language: Python**\n"
   ]
  },
  {
   "cell_type": "code",
   "execution_count": null,
   "metadata": {},
   "outputs": [],
   "source": [
    "from matplotlib import rcParams\n",
    "import matplotlib.pyplot as plt\n",
    "import scvelo as scv\n",
    "import loompy as lp\n",
    "import pandas as pd\n",
    "import numpy as np\n",
    "import os\n",
    "import scanpy as sc\n",
    "import scipy.stats as stats\n",
    "from io import StringIO\n",
    "from sklearn import linear_model\n",
    "import seaborn as sns\n",
    "\n",
    "%matplotlib inline"
   ]
  },
  {
   "cell_type": "code",
   "execution_count": null,
   "metadata": {},
   "outputs": [],
   "source": [
    "scv.settings.verbosity = 3  # show errors(0), warnings(1), info(2), hints(3)\n",
    "scv.settings.presenter_view = True  # set max width size for presenter view\n",
    "scv.settings.set_figure_params('scvelo')\n",
    "# for beautified visualization\n",
    "\n",
    "\n",
    "plt.rcParams['pdf.fonttype'] = 42\n",
    "plt.rcParams['ps.fonttype'] = 42"
   ]
  },
  {
   "cell_type": "markdown",
   "metadata": {},
   "source": [
    "## input sample path\n",
    "\n",
    "First lets find the directory that we are working in\n",
    "\n",
    "**Note:  SigsDir must be changed depending on the user to allow for proper use of this script**"
   ]
  },
  {
   "cell_type": "code",
   "execution_count": null,
   "metadata": {},
   "outputs": [],
   "source": [
    "os.getcwd()"
   ]
  },
  {
   "cell_type": "code",
   "execution_count": null,
   "metadata": {},
   "outputs": [],
   "source": [
    "#set directory to where signature gene lists locates\n",
    "SigsDir=\"/mnt/533ee9c3-18c0-4c72-a09e-d9ce5a10ef9e/sig\"\n",
    "AnnoRefDir=\"/mnt/533ee9c3-18c0-4c72-a09e-d9ce5a10ef9e/T_anno_ref\""
   ]
  },
  {
   "cell_type": "code",
   "execution_count": null,
   "metadata": {},
   "outputs": [],
   "source": [
    "#set the directory for outputs\n",
    "project_ID=\"pool_M1_M2_MKI67\"\n",
    "scv.settings.figdir=f'{project_ID}_figures'"
   ]
  },
  {
   "cell_type": "code",
   "execution_count": null,
   "metadata": {},
   "outputs": [],
   "source": [
    "RESOURCES_FOLDERNAME = \"/mnt/533ee9c3-18c0-4c72-a09e-d9ce5a10ef9e/resources/\"\n",
    "AUXILLIARIES_FOLDERNAME = \"/mnt/533ee9c3-18c0-4c72-a09e-d9ce5a10ef9e/auxilliaries/\"\n",
    "RESULTS_FOLDERNAME = f'{project_ID}_DEG/'\n",
    "FIGURES_FOLDERNAME =f'{project_ID}_figures/'\n",
    "sc.settings.figdir = FIGURES_FOLDERNAME"
   ]
  },
  {
   "cell_type": "code",
   "execution_count": null,
   "metadata": {},
   "outputs": [],
   "source": [
    "BASE_URL = \"http://motifcollections.aertslab.org/v9/logos/\"\n",
    "COLUMN_NAME_LOGO = \"MotifLogo\"\n",
    "COLUMN_NAME_MOTIF_ID = \"MotifID\"\n",
    "COLUMN_NAME_TARGETS = \"TargetGenes\""
   ]
  },
  {
   "cell_type": "markdown",
   "metadata": {},
   "source": [
    "## Unique Gene Names\n",
    "\n",
    "First we want to select the genes that we wish to look at and format them into a data frame that we can use later on"
   ]
  },
  {
   "cell_type": "code",
   "execution_count": null,
   "metadata": {},
   "outputs": [],
   "source": [
    "#set the directory for outputs\n",
    "project_ID=\"pool_M1_M2_MKI67\"\n",
    "scv.settings.figdir=f'{project_ID}_figures'"
   ]
  },
  {
   "cell_type": "code",
   "execution_count": null,
   "metadata": {},
   "outputs": [],
   "source": [
    "adata=scv.read (f\"{project_ID}_anno_dy_reg.h5ad\")"
   ]
  },
  {
   "cell_type": "code",
   "execution_count": null,
   "metadata": {},
   "outputs": [],
   "source": [
    "Sample_idx=pd.Series(\"Unknown\", index=adata.obs_names)\n",
    "m=0\n",
    "for i in np.unique(adata.obs.treatment):   \n",
    "    Sample_idx[adata.obs.treatment==i]=m\n",
    "    m=m+1\n",
    "adata.obs[\"Sample_idx\"]=Sample_idx.values\n",
    "adata.obs[\"Sample_idx\"]=adata.obs[\"Sample_idx\"].astype(float)"
   ]
  },
  {
   "cell_type": "code",
   "execution_count": null,
   "metadata": {},
   "outputs": [],
   "source": [
    "#store a h5ad file for further faster loadinig\n",
    "adata.var_names_make_unique(\"_\")\n",
    "\n",
    "#we need to make a directory to store the files in\n",
    "try:\n",
    "    directoryName=project_ID+\"_figures\"\n",
    "    os.mkdir(directoryName)\n",
    "except:\n",
    "    pass\n",
    "\n",
    "#we need to make a directory to store the files in\n",
    "#we need to make a directory to store the files in\n",
    "try:\n",
    "    directoryName=project_ID+\"_DEG\"\n",
    "    os.mkdir(directoryName)\n",
    "except:\n",
    "    pass\n"
   ]
  },
  {
   "cell_type": "markdown",
   "metadata": {},
   "source": [
    "## Preprocess the Data\n",
    "\n",
    "now we will take the files from the previous section where we determined spliced/unspliced RNA counts and use them to create RNA velocity trajectory as well as investigate biological alternation in each cell"
   ]
  },
  {
   "cell_type": "code",
   "execution_count": null,
   "metadata": {},
   "outputs": [],
   "source": [
    "#calculate the percentage of mitochondrial genes and ribosomal genes\n",
    "adata.var['mt'] = adata.var_names.str.startswith('mt-')\n",
    "adata.var['rp'] = adata.var_names.str.startswith('Rp')\n",
    "sc.pp.calculate_qc_metrics(adata, qc_vars=['mt'], percent_top=None, log1p=False, inplace=True)\n",
    "sc.pp.calculate_qc_metrics(adata, qc_vars=['rp'], percent_top=None, log1p=False, inplace=True)\n",
    "#sc.pl.violin(adata, ['n_vars'], groupby='Sample_ID', stripplot=False) "
   ]
  },
  {
   "cell_type": "code",
   "execution_count": null,
   "metadata": {},
   "outputs": [],
   "source": [
    "#plot scatter plots of dataset QC\n",
    "sc.pl.scatter(adata, x='n_genes_by_counts', y='pct_counts_mt', color=\"anno_clusters\",)\n",
    "sc.pl.scatter(adata, x='n_genes_by_counts', y='pct_counts_rp', color=\"treatment\",)\n",
    "sc.pl.scatter(adata, x='total_counts', y='n_genes_by_counts',color=\"treatment\")\n"
   ]
  },
  {
   "cell_type": "code",
   "execution_count": null,
   "metadata": {},
   "outputs": [],
   "source": [
    "matrix=adata.copy().T.to_df(layer=\"spliced\")"
   ]
  },
  {
   "cell_type": "markdown",
   "metadata": {},
   "source": [
    "***"
   ]
  },
  {
   "cell_type": "markdown",
   "metadata": {},
   "source": [
    "**Continued data processing**"
   ]
  },
  {
   "cell_type": "code",
   "execution_count": null,
   "metadata": {},
   "outputs": [],
   "source": [
    "scv.pp.filter_and_normalize(adata, min_cells=0.1*(len(adata.to_df())), n_top_genes=4000,\n",
    "                            flavor=\"cell_ranger\")\n",
    "scv.tl.score_genes_cell_cycle(adata, s_genes= ['Mcm5', 'Pcna', 'Tyms', 'Fen1', 'Mcm2', 'Mcm4', 'Rrm1', 'Ung', 'Gins2',\n",
    "     'Mcm6', 'Cdca7', 'Dtl', 'Prim1', 'Uhrf1', 'Mlf1ip', 'Hells', 'Rfc2',\n",
    "     'Rpa2', 'Nasp', 'Rad51ap1', 'Gmnn', 'Wdr76', 'Slbp', 'Ccne2', 'Ubr7',\n",
    "     'Pold3', 'Msh2', 'Atad2', 'Rad51', 'Rrm2', 'Cdc45', 'Cdc6', 'Exo1', 'Tipin',\n",
    "     'Dscc1', 'Blm', 'Casp8ap2', 'Usp1', 'Clspn', 'Pola1', 'Chaf1b', 'Brip1', 'E2f8'], g2m_genes = ['Hmgb2', 'Cdk1', 'Nusap1', 'Ube2c', 'Birc5', 'Tpx2', 'Top2a', 'Ndc80',\n",
    "     'Cks2', 'Nuf2', 'Cks1b', 'Mki67', 'Tmpo', 'Cenpf', 'Tacc3', 'Fam64a',\n",
    "     'Smc4', 'Ccnb2', 'Ckap2l', 'Ckap2', 'Aurkb', 'Bub1', 'Kif11', 'Anp32e',\n",
    "     'Tubb4b', 'Gtse1', 'Kif20b', 'Hjurp', 'Cdca3', 'Hn1', 'Cdc20', 'Ttk',\n",
    "     'Cdc25c', 'Kif2c', 'Rangap1', 'Ncapd2', 'Dlgap5', 'Cdca2', 'Cdca8',\n",
    "     'Ect2', 'Kif23', 'Hmmr', 'Aurka', 'Psrc1', 'Anln', 'Lbr', 'Ckap5',\n",
    "     'Cenpe', 'Ctcf', 'Nek2', 'G2e3', 'Gas2l3', 'Cbx5', 'Cenpa']) # calculate cell cycle score with scv internal function and its gene list of s phase and g2m phase, then we will have two observations---\"S_score\" and \"G2M_score\" added in adata \n",
    "sc.pp.regress_out(adata, keys=[\"total_counts\",\"n_genes_by_counts\",\"S_score\",\"G2M_score\",\"Sample_idx\"] , n_jobs=None, copy=False) # we remove cell cycle effects\n",
    "scv.pp.moments(adata,n_pcs=10, n_neighbors=150, mode=\"distances\") # we calculate a moment matrix for further RNA velocity analysis"
   ]
  },
  {
   "cell_type": "code",
   "execution_count": null,
   "metadata": {},
   "outputs": [],
   "source": [
    "#calculate umap\n",
    "scv.tl.umap(adata, n_components=2, min_dist=0.7, spread=1, maxiter=None, alpha=1.0,\n",
    "            gamma=1, negative_sample_rate=5, init_pos=\"spectral\", random_state=0, a=None,\n",
    "            b=None, copy=False, method=\"umap\", neighbors_key=None)"
   ]
  },
  {
   "cell_type": "code",
   "execution_count": null,
   "metadata": {},
   "outputs": [],
   "source": [
    "#calculate louvain clusters based on the umap we generated previously\n",
    "sc.tl.leiden(adata, resolution=5,  \n",
    "                 key_added='leiden', use_weights=True)\n",
    "adata.obs[\"clusters\"]=adata.obs[\"leiden\"]"
   ]
  },
  {
   "cell_type": "code",
   "execution_count": null,
   "metadata": {},
   "outputs": [],
   "source": [
    "#check proportions of spliced and unspliced RNA in each cluster\n",
    "scv.pl.proportions(adata)"
   ]
  },
  {
   "cell_type": "code",
   "execution_count": null,
   "metadata": {},
   "outputs": [],
   "source": [
    "#plot umap grouped by treatment\n",
    "plot_pattern=\"anno_clusters\"\n",
    "scv.pl.scatter(adata,save=f\"{plot_pattern}_umap.pdf\",\n",
    "               basis=\"umap\",\n",
    "           color=plot_pattern,legend_loc=\"right\",\n",
    "          palette=[ \"DeepSkyBlue\",\"royalblue\",\"MidnightBlue\",\"Pink\",\"hotpink\",\"darkviolet\",\n",
    "                    \"SpringGreen\",\"forestgreen\",\"maroon\"\n",
    "            ,\"PapayaWhip\", \"gold\",\"orchid\",\"crimson\"\n",
    "            ,\"firebrick\",\"olivedrab\",\"lightcoral\",\"greenyellow\"\n",
    "            ,\"tan\",\"slategrey\",\"coral\",\"lightseagreen\"\n",
    "            ,\"lightsteelblue\",\"lightskyblue\",\"dimgrey\",\n",
    "            \"indigo\",\"darkturquoise\"],\n",
    "            size=20, alpha=0.8,\n",
    "            )"
   ]
  },
  {
   "cell_type": "code",
   "execution_count": null,
   "metadata": {},
   "outputs": [],
   "source": [
    "#plot umap grouped by treatment\n",
    "plot_pattern=\"treatment\"\n",
    "scv.pl.scatter(adata, save=f\"{plot_pattern}_umap.pdf\",\n",
    "               basis=\"umap\",\n",
    "           color=plot_pattern,legend_loc=\"right\",\n",
    "          palette=[   \"DeepSkyBlue\",\"Pink\",\"royalblue\",\"MidnightBlue\",\"DarkMagenta\",\"hotpink\",\"PeachPuff\",\"darkviolet\",\n",
    "                    \"SpringGreen\",\"forestgreen\",\"maroon\",\"IndianRed\",\"PaleVioletRed\",\n",
    "            \"PapayaWhip\", \"gold\",\"orchid\",\"crimson\",\"Sandybrown\",\"mediumvioletred\",\n",
    "            \"firebrick\",\"olivedrab\",\"lightcoral\",\"greenyellow\"\n",
    "            ,\"tan\",\"slategrey\",\"coral\",\"lightseagreen\",\"Aqua\",\"CadetBlue\",\"PaleTurquoise\",\n",
    "            \"lightsteelblue\",\"lightskyblue\",\"dimgrey\",\"RosyBrown\",\"Goldenrod\",\"BurlyWood\",\"Peru\",\n",
    "            \"indigo\",\"Thistle\",\"black\"],\n",
    "            size=20, alpha=0.8,\n",
    "            )"
   ]
  },
  {
   "cell_type": "code",
   "execution_count": null,
   "metadata": {},
   "outputs": [],
   "source": []
  },
  {
   "cell_type": "code",
   "execution_count": null,
   "metadata": {},
   "outputs": [],
   "source": [
    "import glob, re, pickle\n",
    "from functools import partial\n",
    "from collections import OrderedDict\n",
    "import operator as op\n",
    "from cytoolz import compose\n",
    "\n",
    "from pyscenic.export import export2loom, add_scenic_metadata\n",
    "from pyscenic.utils import load_motifs\n",
    "from pyscenic.transform import df2regulons\n",
    "from pyscenic.aucell import aucell\n",
    "from pyscenic.binarization import binarize\n",
    "from pyscenic.rss import regulon_specificity_scores\n",
    "from pyscenic.plotting import plot_binarization, plot_rss\n",
    "\n",
    "\n",
    "from IPython.display import HTML, display\n",
    "import matplotlib as mpl"
   ]
  },
  {
   "cell_type": "code",
   "execution_count": null,
   "metadata": {},
   "outputs": [],
   "source": [
    "import pyscenic\n",
    "pyscenic.__version__"
   ]
  },
  {
   "cell_type": "code",
   "execution_count": null,
   "metadata": {},
   "outputs": [],
   "source": [
    "def savesvg(fname: str, fig, folder: str=FIGURES_FOLDERNAME) -> None:\n",
    "    \"\"\"\n",
    "    Save figure as vector-based SVG image format.\n",
    "    \"\"\"\n",
    "    fig.tight_layout()\n",
    "    fig.savefig(os.path.join(folder, fname), format='svg')"
   ]
  },
  {
   "cell_type": "code",
   "execution_count": null,
   "metadata": {},
   "outputs": [],
   "source": [
    "def display_logos(df: pd.DataFrame, top_target_genes: int = 3, base_url: str = BASE_URL):\n",
    "    \"\"\"\n",
    "    :param df:\n",
    "    :param base_url:\n",
    "    \"\"\"\n",
    "    # Make sure the original dataframe is not altered.\n",
    "    df = df.copy()\n",
    "    \n",
    "    # Add column with URLs to sequence logo.\n",
    "    def create_url(motif_id):\n",
    "        return '<img src=\"{}{}.png\" style=\"max-height:124px;\"></img>'.format(base_url, motif_id)\n",
    "    df[(\"Enrichment\", COLUMN_NAME_LOGO)] = list(map(create_url, df.index.get_level_values(COLUMN_NAME_MOTIF_ID)))\n",
    "    \n",
    "    # Truncate TargetGenes.\n",
    "    def truncate(col_val):\n",
    "        return sorted(col_val, key=op.itemgetter(1))[:top_target_genes]\n",
    "    df[(\"Enrichment\", COLUMN_NAME_TARGETS)] = list(map(truncate, df[(\"Enrichment\", COLUMN_NAME_TARGETS)]))\n",
    "    \n",
    "    MAX_COL_WIDTH = pd.get_option('display.max_colwidth')\n",
    "    pd.set_option('display.max_colwidth', -1)\n",
    "    display(HTML(df.head().to_html(escape=False)))\n",
    "    pd.set_option('display.max_colwidth', MAX_COL_WIDTH)"
   ]
  },
  {
   "cell_type": "code",
   "execution_count": null,
   "metadata": {},
   "outputs": [],
   "source": [
    "# Downloaded fromm pySCENIC github repo: https://github.com/aertslab/pySCENIC/tree/master/resources\n",
    "MM_TFS_FNAME = os.path.join(AUXILLIARIES_FOLDERNAME, 'mm_tfs.txt')\n",
    "# Ranking databases. Downloaded from cisTargetDB: https://resources.aertslab.org/cistarget/\n",
    "RANKING_DBS_FNAMES = list(map(lambda fn: os.path.join(AUXILLIARIES_FOLDERNAME, fn),\n",
    "                       [\n",
    "                       'mm10__refseq-r80__10kb_up_and_down_tss.mc9nr.feather',\n",
    "                        'mm10__refseq-r80__500bp_up_and_100bp_down_tss.mc9nr.feather']))\n",
    "# Motif annotations. Downloaded from cisTargetDB: https://resources.aertslab.org/cistarget/\n",
    "MOTIF_ANNOTATIONS_FNAME = os.path.join(AUXILLIARIES_FOLDERNAME, 'motifs-v9-nr.mgi-m0.001-o0.0.tbl')"
   ]
  },
  {
   "cell_type": "code",
   "execution_count": null,
   "metadata": {},
   "outputs": [],
   "source": [
    "DATASET_ID=project_ID"
   ]
  },
  {
   "cell_type": "code",
   "execution_count": null,
   "metadata": {},
   "outputs": [],
   "source": [
    "METADATA_FNAME = os.path.join(RESULTS_FOLDERNAME, '{}.metadata.csv'.format(DATASET_ID))\n",
    "COUNTS_QC_MTX_FNAME = os.path.join(f\"{project_ID}_DEG\", 'matrix_raw.qc.counts.csv')\n",
    "ADJACENCIES_FNAME = os.path.join(RESULTS_FOLDERNAME, '{}.adj.tsv'.format(DATASET_ID))\n",
    "MOTIFS_FNAME = os.path.join(RESULTS_FOLDERNAME, '{}.motifs.csv'.format(DATASET_ID))\n",
    "REGULONS_DAT_FNAME = os.path.join(RESULTS_FOLDERNAME, '{}.regulons.dat'.format(DATASET_ID))\n",
    "AUCELL_MTX_FNAME = os.path.join(RESULTS_FOLDERNAME, '{}.auc.csv'.format(DATASET_ID))\n",
    "BIN_MTX_FNAME = os.path.join(RESULTS_FOLDERNAME, '{}.bin.csv'.format(DATASET_ID))\n",
    "THR_FNAME = os.path.join(RESULTS_FOLDERNAME, '{}.thresholds.csv'.format(DATASET_ID))\n",
    "#ANNDATA_FNAME = os.path.join(RESULTS_FOLDERNAME, '{}.h5ad'.format(DATASET_ID))\n",
    "#LOOM_FNAME = os.path.join(RESULTS_FOLDERNAME, '{}_{}.loom'.format(TCGA_CODE, DATASET_ID))"
   ]
  },
  {
   "cell_type": "code",
   "execution_count": null,
   "metadata": {},
   "outputs": [],
   "source": [
    "pd_motifs = pd.read_csv(MOTIF_ANNOTATIONS_FNAME, sep='\\t')"
   ]
  },
  {
   "cell_type": "code",
   "execution_count": null,
   "metadata": {},
   "outputs": [],
   "source": [
    "mm_tfs = pd_motifs.gene_name.unique()\n",
    "len(mm_tfs)"
   ]
  },
  {
   "cell_type": "code",
   "execution_count": null,
   "metadata": {},
   "outputs": [],
   "source": [
    "with open(MM_TFS_FNAME, 'wt') as f:\n",
    "    f.write('\\n'.join(mm_tfs) + '\\n')"
   ]
  },
  {
   "cell_type": "code",
   "execution_count": null,
   "metadata": {},
   "outputs": [],
   "source": [
    "adata.to_df().to_csv(COUNTS_QC_MTX_FNAME) # raw counts"
   ]
  },
  {
   "cell_type": "code",
   "execution_count": null,
   "metadata": {},
   "outputs": [],
   "source": [
    "!arboreto_with_multiprocessing.py {COUNTS_QC_MTX_FNAME} {MM_TFS_FNAME} --method grnboost2  -o {ADJACENCIES_FNAME} --num_workers 20 --seed 777"
   ]
  },
  {
   "cell_type": "code",
   "execution_count": null,
   "metadata": {},
   "outputs": [],
   "source": [
    "DBS_PARAM = ' '.join(RANKING_DBS_FNAMES)"
   ]
  },
  {
   "cell_type": "code",
   "execution_count": null,
   "metadata": {},
   "outputs": [],
   "source": [
    "!pyscenic ctx {ADJACENCIES_FNAME} {DBS_PARAM} \\\n",
    "            --annotations_fname {MOTIF_ANNOTATIONS_FNAME} \\\n",
    "            --expression_mtx_fname {COUNTS_QC_MTX_FNAME} \\\n",
    "            --output {MOTIFS_FNAME} \\\n",
    "            --num_workers 26"
   ]
  },
  {
   "cell_type": "code",
   "execution_count": null,
   "metadata": {},
   "outputs": [],
   "source": [
    "df_motifs = load_motifs(MOTIFS_FNAME)"
   ]
  },
  {
   "cell_type": "code",
   "execution_count": null,
   "metadata": {},
   "outputs": [],
   "source": [
    "df_motifs"
   ]
  },
  {
   "cell_type": "code",
   "execution_count": null,
   "metadata": {},
   "outputs": [],
   "source": [
    "regulons = derive_regulons(df_motifs)"
   ]
  },
  {
   "cell_type": "code",
   "execution_count": null,
   "metadata": {},
   "outputs": [],
   "source": [
    "regulons=df2regulons(df_motifs)"
   ]
  },
  {
   "cell_type": "code",
   "execution_count": null,
   "metadata": {},
   "outputs": [],
   "source": [
    "%%time\n",
    "auc_mtx = aucell(adata.to_df(), regulons, num_workers=26)\n",
    "auc_mtx.to_csv(AUCELL_MTX_FNAME)"
   ]
  },
  {
   "cell_type": "code",
   "execution_count": null,
   "metadata": {},
   "outputs": [],
   "source": [
    "auc_mtx = pd.read_csv(AUCELL_MTX_FNAME, index_col=0)"
   ]
  },
  {
   "cell_type": "code",
   "execution_count": null,
   "metadata": {},
   "outputs": [],
   "source": [
    "adata.obs=adata.obs.loc[:,[columns for columns in adata.obs.columns if not columns.startswith(\"Reg\")]]"
   ]
  },
  {
   "cell_type": "code",
   "execution_count": null,
   "metadata": {},
   "outputs": [],
   "source": [
    "adata.var=adata.var.loc[:,[columns for columns in adata.var.columns if not columns.startswith(\"Reg\")]]"
   ]
  },
  {
   "cell_type": "code",
   "execution_count": null,
   "metadata": {},
   "outputs": [],
   "source": [
    "add_scenic_metadata(adata, auc_mtx, regulons)"
   ]
  },
  {
   "cell_type": "code",
   "execution_count": null,
   "metadata": {},
   "outputs": [],
   "source": [
    "def palplot(pal, names, colors=None, size=1):\n",
    "    n = len(pal)\n",
    "    f, ax = plt.subplots(1, 1, figsize=(n * size, size))\n",
    "    ax.imshow(np.arange(n).reshape(1, n),\n",
    "              cmap=mpl.colors.ListedColormap(list(pal)),\n",
    "              interpolation=\"nearest\", aspect=\"auto\")\n",
    "    ax.set_xticks(np.arange(n) - .5)\n",
    "    ax.set_yticks([-.5, .5])\n",
    "    ax.set_xticklabels([])\n",
    "    ax.set_yticklabels([])\n",
    "    colors = n * ['k'] if colors is None else colors\n",
    "    for idx, (name, color) in enumerate(zip(names, colors)):\n",
    "        ax.text(0.0+idx, 0.0, name, color=color, horizontalalignment='center', verticalalignment='center')\n",
    "    return f"
   ]
  },
  {
   "cell_type": "code",
   "execution_count": null,
   "metadata": {},
   "outputs": [],
   "source": [
    "N_COLORS = len(adata.obs.anno_clusters)\n",
    "COLORS =adata.uns['anno_clusters_colors']"
   ]
  },
  {
   "cell_type": "code",
   "execution_count": null,
   "metadata": {},
   "outputs": [],
   "source": [
    "COLORS"
   ]
  },
  {
   "cell_type": "code",
   "execution_count": null,
   "metadata": {},
   "outputs": [],
   "source": [
    "#cell_type_color_lut = dict(zip(adata.obs[\"clusters\"].dtype.categories, COLORS))\n",
    "cell_type_color_lut = dict(zip(adata.obs[\"anno_clusters\"].dtype.categories, adata.uns['anno_clusters_colors']))\n",
    "cell_id2cell_type_lut = adata.obs.anno_clusters.to_dict()\n",
    "bw_palette = sns.xkcd_palette([\"white\", \"gold\"])"
   ]
  },
  {
   "cell_type": "code",
   "execution_count": null,
   "metadata": {},
   "outputs": [],
   "source": [
    "sns.set()\n",
    "sns.set_style(\"whitegrid\")\n",
    "fig = palplot(bw_palette, ['OFF', 'ON'], ['k', 'w'])\n",
    "savesvg('legend - on_off.svg', fig)"
   ]
  },
  {
   "cell_type": "code",
   "execution_count": null,
   "metadata": {},
   "outputs": [],
   "source": [
    "sns.set()\n",
    "sns.set(font_scale=0.8)\n",
    "fig = palplot(sns.color_palette(COLORS), adata.obs[\"anno_clusters\"].dtype.categories, size=1.0)\n",
    "#savesvg('legend - GSE115978 - cell_type_colors.svg', fig)"
   ]
  },
  {
   "cell_type": "code",
   "execution_count": null,
   "metadata": {},
   "outputs": [],
   "source": [
    "def fetch_logo(regulon, base_url = BASE_URL):\n",
    "    for elem in regulon.context:\n",
    "        if elem.endswith('.png'):\n",
    "            return '<img src=\"{}{}\" style=\"max-height:124px;\"></img>'.format(base_url, elem)\n",
    "    return \"\""
   ]
  },
  {
   "cell_type": "code",
   "execution_count": null,
   "metadata": {},
   "outputs": [],
   "source": [
    "df_regulons = pd.DataFrame(data=[list(map(op.attrgetter('name'), regulons)),\n",
    "                                 list(map(len, regulons)),\n",
    "                                 list(map(fetch_logo, regulons))], index=['name', 'count', 'logo']).T"
   ]
  },
  {
   "cell_type": "code",
   "execution_count": null,
   "metadata": {},
   "outputs": [],
   "source": [
    "MAX_COL_WIDTH = pd.get_option('display.max_colwidth')\n",
    "pd.set_option('display.max_colwidth', -1)\n",
    "display(HTML(df_regulons.head().to_html(escape=False)))\n",
    "pd.set_option('display.max_colwidth', MAX_COL_WIDTH)"
   ]
  },
  {
   "cell_type": "code",
   "execution_count": null,
   "metadata": {},
   "outputs": [],
   "source": [
    "auc_mtx_=auc_mtx.loc[adata_.obs_names]"
   ]
  },
  {
   "cell_type": "code",
   "execution_count": null,
   "metadata": {},
   "outputs": [],
   "source": [
    "rss = regulon_specificity_scores(auc_mtx_, adata_.obs.anno_clusters)"
   ]
  },
  {
   "cell_type": "code",
   "execution_count": null,
   "metadata": {},
   "outputs": [],
   "source": [
    "rss.loc[\"Macro-M1\"].sort_values( ascending=False).head(20)"
   ]
  },
  {
   "cell_type": "code",
   "execution_count": null,
   "metadata": {},
   "outputs": [],
   "source": [
    "sns.set()\n",
    "sns.set(style='whitegrid', font_scale=1)\n",
    "fig, (ax1) = plt.subplots(1, 1, figsize=(2,3), dpi=100)\n",
    "plot_rss(rss, 'Macro-M2', ax=ax1)\n",
    "ax1.set_xlabel('')\n",
    "\n",
    "plt.tight_layout()\n",
    "savesvg('plots -M2- rss.svg', fig)"
   ]
  },
  {
   "cell_type": "code",
   "execution_count": null,
   "metadata": {},
   "outputs": [],
   "source": [
    "sns.set()\n",
    "sns.set(style='whitegrid', font_scale=1)\n",
    "fig, (ax1) = plt.subplots(1, 1, figsize=(2,3), dpi=100)\n",
    "plot_rss(rss, 'Macro-M1', ax=ax1)\n",
    "ax1.set_xlabel('')\n",
    "plot_rss(rss, 'Macro-M2', ax=ax1)\n",
    "ax1.set_xlabel('')\n",
    "ax1.set_ylabel('')\n",
    "plot_rss(rss, 'Macro-MKI67', ax=ax1)\n",
    "ax1.set_xlabel('')\n",
    "ax1.set_ylabel('')\n",
    "\n",
    "plt.tight_layout()\n",
    "savesvg('plots -Macro- rss.svg', fig)"
   ]
  },
  {
   "cell_type": "code",
   "execution_count": null,
   "metadata": {},
   "outputs": [],
   "source": [
    "#overlap signature or gene expression in umap\n",
    "color_name=\"Regulon(Nfkb1(+))\"\n",
    "scv.pl.scatter(adata,basis=\"umap\",\n",
    "               color=color_name, \n",
    "               alpha=0.6,size=20, color_map=\"jet\",\n",
    "               smooth=10, perc=[2, 98],ncols=4\n",
    "              )#save=f\"{color_name}_98_2.pdf\")"
   ]
  },
  {
   "cell_type": "code",
   "execution_count": null,
   "metadata": {},
   "outputs": [],
   "source": [
    "groupby=\"anno_clusters\"\n",
    "sc.tl.dendrogram(adata, groupby=groupby)\n",
    "sc.pl.dotplot(adata, [\"Regulon(Nfkb1(+))\",\"Regulon(Srebf2(+))\",\"Regulon(Mef2c(+))\",\"Regulon(Irf8(+))\",\"Regulon(Sp1(+))\",\n",
    "                      \"Regulon(Bcl11a(+))\",  \"Regulon(Bhlhe40(+))\",\"Regulon(Brca1(+))\",\"Regulon(E2f7(+))\",\"Regulon(Ezh2(+))\",\n",
    "                      \"Regulon(Klf2(+))\",\"Regulon(Cebpb(+))\",\"Regulon(Maf(+))\",\"Regulon(Spic(+))\",\"Regulon(Tcf4(+))\",], groupby=groupby,standard_scale=\"var\", dendrogram=False,\n",
    "              cmap=\"YlOrRd\",figsize=(6.2,1.2),\n",
    "             save=f\"{project_ID}_regulons_{groupby}.pdf\")"
   ]
  },
  {
   "cell_type": "code",
   "execution_count": null,
   "metadata": {},
   "outputs": [],
   "source": []
  },
  {
   "cell_type": "code",
   "execution_count": null,
   "metadata": {},
   "outputs": [],
   "source": [
    "adata.write(f\"{project_ID}_figures/{project_ID}_anno_dy_reg.h5ad\")"
   ]
  },
  {
   "cell_type": "code",
   "execution_count": null,
   "metadata": {},
   "outputs": [],
   "source": []
  }
 ],
 "metadata": {
  "kernelspec": {
   "display_name": "Python 3",
   "language": "python",
   "name": "python3"
  },
  "language_info": {
   "codemirror_mode": {
    "name": "ipython",
    "version": 3
   },
   "file_extension": ".py",
   "mimetype": "text/x-python",
   "name": "python",
   "nbconvert_exporter": "python",
   "pygments_lexer": "ipython3",
   "version": "3.8.5"
  }
 },
 "nbformat": 4,
 "nbformat_minor": 4
}
